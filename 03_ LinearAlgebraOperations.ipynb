{
 "cells": [
  {
   "cell_type": "code",
   "execution_count": 1,
   "id": "add11bea",
   "metadata": {},
   "outputs": [],
   "source": [
    "import tensorflow as tf\n",
    "import numpy as np"
   ]
  },
  {
   "cell_type": "markdown",
   "id": "c8863407",
   "metadata": {},
   "source": [
    "## linalg.matmul"
   ]
  },
  {
   "cell_type": "markdown",
   "id": "48e4e55a",
   "metadata": {},
   "source": [
    "# 2D"
   ]
  },
  {
   "cell_type": "code",
   "execution_count": 2,
   "id": "1394bfa1",
   "metadata": {},
   "outputs": [
    {
     "name": "stdout",
     "output_type": "stream",
     "text": [
      "shapes: \t (2, 4)  X  (4, 2)\n",
      "mul: \t tf.Tensor(\n",
      "[[ 244  214]\n",
      " [1954 2024]], shape=(2, 2), dtype=int32)\n"
     ]
    }
   ],
   "source": [
    "mat_1 = tf.constant([[3, 2, 5, 4], \n",
    "                     [23,32,55,14]])\n",
    "mat_2 = tf.constant([[3, 2], \n",
    "                     [23,32], \n",
    "                     [13,12], \n",
    "                     [31,21]])\n",
    "\n",
    "mul = tf.linalg.matmul(\n",
    "      mat_1,\n",
    "      mat_2,\n",
    "      transpose_a=False,\n",
    "      transpose_b=False,\n",
    "      adjoint_a=False,\n",
    "      adjoint_b=False,\n",
    "      a_is_sparse=False,\n",
    "      b_is_sparse=False,\n",
    "      output_type=None,\n",
    "      name=None\n",
    ")\n",
    "print(\"shapes: \\t\",mat_1.shape,\" X \", mat_2.shape)\n",
    "print('mul: \\t', mul)"
   ]
  },
  {
   "cell_type": "code",
   "execution_count": 3,
   "id": "069afe96",
   "metadata": {},
   "outputs": [
    {
     "name": "stdout",
     "output_type": "stream",
     "text": [
      "shapes: \t (2, 4)  X  (4, 2)\n",
      "mul: \t tf.Tensor(\n",
      "[[ 244  214]\n",
      " [1954 2024]], shape=(2, 2), dtype=int32)\n"
     ]
    }
   ],
   "source": [
    "print(\"shapes: \\t\",mat_1.shape,\" X \", mat_2.shape)\n",
    "print('mul: \\t', mat_1 @ mat_2)"
   ]
  },
  {
   "cell_type": "code",
   "execution_count": 4,
   "id": "5a43adab",
   "metadata": {},
   "outputs": [
    {
     "name": "stdout",
     "output_type": "stream",
     "text": [
      "shapes: \t (4, 2)  X  (2, 4)\n",
      "mul: \t tf.Tensor(\n",
      "[[  55   70  125   40]\n",
      " [ 805 1070 1875  540]\n",
      " [ 315  410  725  220]\n",
      " [ 576  734 1310  418]], shape=(4, 4), dtype=int32)\n"
     ]
    }
   ],
   "source": [
    "mul2 = tf.linalg.matmul(mat_2, mat_1)\n",
    "print(\"shapes: \\t\",mat_2.shape,\" X \", mat_1.shape)\n",
    "print('mul: \\t', mul2)"
   ]
  },
  {
   "cell_type": "code",
   "execution_count": 5,
   "id": "a4932c79",
   "metadata": {},
   "outputs": [
    {
     "name": "stdout",
     "output_type": "stream",
     "text": [
      "shapes: \t (4, 2)  X  (2, 4)\n",
      "mul: \t tf.Tensor(\n",
      "[[  55   70  125   40]\n",
      " [ 805 1070 1875  540]\n",
      " [ 315  410  725  220]\n",
      " [ 576  734 1310  418]], shape=(4, 4), dtype=int32)\n"
     ]
    }
   ],
   "source": [
    "print(\"shapes: \\t\",mat_2.shape,\" X \", mat_1.shape)\n",
    "print('mul: \\t', mat_2 @ mat_1)"
   ]
  },
  {
   "cell_type": "code",
   "execution_count": 6,
   "id": "5e64edc6",
   "metadata": {},
   "outputs": [
    {
     "name": "stdout",
     "output_type": "stream",
     "text": [
      "shapes: \t (2, 4)  X  (4, 2)\n",
      "mul: \t tf.Tensor(\n",
      "[[ 244  214]\n",
      " [1954 2024]], shape=(2, 2), dtype=int32)\n"
     ]
    }
   ],
   "source": [
    "mat_1 = tf.constant([[3, 2, 5, 4], \n",
    "                     [23,32,55,14]])\n",
    "mat_2 = tf.constant([[3, 2], \n",
    "                     [23,32], \n",
    "                     [13,12], \n",
    "                     [31,21]])\n",
    "mul = tf.linalg.matmul(mat_1, mat_2)\n",
    "print(\"shapes: \\t\",mat_1.shape,\" X \", mat_2.shape)\n",
    "print('mul: \\t', mul)"
   ]
  },
  {
   "cell_type": "markdown",
   "id": "e56f33f3",
   "metadata": {},
   "source": [
    "# 3D"
   ]
  },
  {
   "cell_type": "code",
   "execution_count": 7,
   "id": "b1cb6e43",
   "metadata": {},
   "outputs": [
    {
     "name": "stdout",
     "output_type": "stream",
     "text": [
      "mat_1:\t tf.Tensor(\n",
      "[[[ 1  2  3]\n",
      "  [ 4  5  6]]\n",
      "\n",
      " [[ 7  8  9]\n",
      "  [10 11 12]]], shape=(2, 2, 3), dtype=int32)\n",
      "mat_2:\t tf.Tensor(\n",
      "[[[13 14]\n",
      "  [15 16]\n",
      "  [17 18]]\n",
      "\n",
      " [[19 20]\n",
      "  [21 22]\n",
      "  [23 24]]], shape=(2, 3, 2), dtype=int32)\n",
      "shapes: \t (2, 2, 3)  X  (2, 3, 2)\n",
      "mul: \t tf.Tensor(\n",
      "[[[ 94 100]\n",
      "  [229 244]]\n",
      "\n",
      " [[508 532]\n",
      "  [697 730]]], shape=(2, 2, 2), dtype=int32)\n"
     ]
    }
   ],
   "source": [
    "mat_1 = tf.constant(np.arange(1, 13, dtype=np.int32), shape=[2, 2, 3])\n",
    "mat_2 = tf.constant(np.arange(13, 25, dtype=np.int32), shape=[2, 3, 2])\n",
    "\n",
    "mul = tf.linalg.matmul(\n",
    "      mat_1,\n",
    "      mat_2,\n",
    "      transpose_a=False,\n",
    "      transpose_b=False,\n",
    "      adjoint_a=False,\n",
    "      adjoint_b=False,\n",
    "      a_is_sparse=False,\n",
    "      b_is_sparse=False,\n",
    "      output_type=None,\n",
    "      name=None\n",
    ")\n",
    "print(\"mat_1:\\t\",mat_1)\n",
    "print(\"mat_2:\\t\",mat_2)\n",
    "print(\"shapes: \\t\",mat_1.shape,\" X \", mat_2.shape)\n",
    "print('mul: \\t', mul)"
   ]
  },
  {
   "cell_type": "code",
   "execution_count": 8,
   "id": "4d6eda37",
   "metadata": {},
   "outputs": [
    {
     "name": "stdout",
     "output_type": "stream",
     "text": [
      "mat_1:\t tf.Tensor(\n",
      "[[[ 1  2  3]\n",
      "  [ 4  5  6]]\n",
      "\n",
      " [[ 7  8  9]\n",
      "  [10 11 12]]], shape=(2, 2, 3), dtype=int32)\n",
      "mat_2:\t tf.Tensor(\n",
      "[[[13 14]\n",
      "  [15 16]\n",
      "  [17 18]]\n",
      "\n",
      " [[19 20]\n",
      "  [21 22]\n",
      "  [23 24]]], shape=(2, 3, 2), dtype=int32)\n",
      "shapes: \t (2, 2, 3)  X  (2, 3, 2)\n",
      "mul: \t tf.Tensor(\n",
      "[[[ 94 100]\n",
      "  [229 244]]\n",
      "\n",
      " [[508 532]\n",
      "  [697 730]]], shape=(2, 2, 2), dtype=int32)\n"
     ]
    }
   ],
   "source": [
    "mat_1 = tf.constant(np.arange(1, 13, dtype=np.int32), shape=[2, 2, 3])\n",
    "mat_2 = tf.constant(np.arange(13, 25, dtype=np.int32), shape=[2, 3, 2])\n",
    "\n",
    "mul = mat_1 @ mat_2\n",
    "print(\"mat_1:\\t\",mat_1)\n",
    "print(\"mat_2:\\t\",mat_2)\n",
    "print(\"shapes: \\t\",mat_1.shape,\" X \", mat_2.shape)\n",
    "print('mul: \\t', mul)"
   ]
  },
  {
   "cell_type": "markdown",
   "id": "13004a59",
   "metadata": {},
   "source": [
    "# tf.transpose()"
   ]
  },
  {
   "cell_type": "code",
   "execution_count": 9,
   "id": "1b566e35",
   "metadata": {},
   "outputs": [
    {
     "ename": "InvalidArgumentError",
     "evalue": "{{function_node __wrapped__BatchMatMulV2_device_/job:localhost/replica:0/task:0/device:CPU:0}} Matrix size-incompatible: In[0]: [2,3,2], In[1]: [2,3,2] [Op:BatchMatMulV2] name: ",
     "output_type": "error",
     "traceback": [
      "\u001b[1;31m---------------------------------------------------------------------------\u001b[0m",
      "\u001b[1;31mInvalidArgumentError\u001b[0m                      Traceback (most recent call last)",
      "Cell \u001b[1;32mIn[9], line 4\u001b[0m\n\u001b[0;32m      1\u001b[0m mat_1 \u001b[38;5;241m=\u001b[39m tf\u001b[38;5;241m.\u001b[39mconstant(np\u001b[38;5;241m.\u001b[39marange(\u001b[38;5;241m1\u001b[39m, \u001b[38;5;241m13\u001b[39m, dtype\u001b[38;5;241m=\u001b[39mnp\u001b[38;5;241m.\u001b[39mint32), shape\u001b[38;5;241m=\u001b[39m[\u001b[38;5;241m2\u001b[39m, \u001b[38;5;241m3\u001b[39m, \u001b[38;5;241m2\u001b[39m])\n\u001b[0;32m      2\u001b[0m mat_2 \u001b[38;5;241m=\u001b[39m tf\u001b[38;5;241m.\u001b[39mconstant(np\u001b[38;5;241m.\u001b[39marange(\u001b[38;5;241m13\u001b[39m, \u001b[38;5;241m25\u001b[39m, dtype\u001b[38;5;241m=\u001b[39mnp\u001b[38;5;241m.\u001b[39mint32), shape\u001b[38;5;241m=\u001b[39m[\u001b[38;5;241m2\u001b[39m, \u001b[38;5;241m3\u001b[39m, \u001b[38;5;241m2\u001b[39m])\n\u001b[1;32m----> 4\u001b[0m mul \u001b[38;5;241m=\u001b[39m \u001b[43mtf\u001b[49m\u001b[38;5;241;43m.\u001b[39;49m\u001b[43mlinalg\u001b[49m\u001b[38;5;241;43m.\u001b[39;49m\u001b[43mmatmul\u001b[49m\u001b[43m(\u001b[49m\n\u001b[0;32m      5\u001b[0m \u001b[43m      \u001b[49m\u001b[43mmat_1\u001b[49m\u001b[43m,\u001b[49m\n\u001b[0;32m      6\u001b[0m \u001b[43m      \u001b[49m\u001b[43mmat_2\u001b[49m\u001b[43m,\u001b[49m\n\u001b[0;32m      7\u001b[0m \u001b[43m      \u001b[49m\u001b[43mtranspose_a\u001b[49m\u001b[38;5;241;43m=\u001b[39;49m\u001b[38;5;28;43;01mFalse\u001b[39;49;00m\u001b[43m,\u001b[49m\n\u001b[0;32m      8\u001b[0m \u001b[43m      \u001b[49m\u001b[43mtranspose_b\u001b[49m\u001b[38;5;241;43m=\u001b[39;49m\u001b[38;5;28;43;01mFalse\u001b[39;49;00m\u001b[43m,\u001b[49m\n\u001b[0;32m      9\u001b[0m \u001b[43m      \u001b[49m\u001b[43madjoint_a\u001b[49m\u001b[38;5;241;43m=\u001b[39;49m\u001b[38;5;28;43;01mFalse\u001b[39;49;00m\u001b[43m,\u001b[49m\n\u001b[0;32m     10\u001b[0m \u001b[43m      \u001b[49m\u001b[43madjoint_b\u001b[49m\u001b[38;5;241;43m=\u001b[39;49m\u001b[38;5;28;43;01mFalse\u001b[39;49;00m\u001b[43m,\u001b[49m\n\u001b[0;32m     11\u001b[0m \u001b[43m      \u001b[49m\u001b[43ma_is_sparse\u001b[49m\u001b[38;5;241;43m=\u001b[39;49m\u001b[38;5;28;43;01mFalse\u001b[39;49;00m\u001b[43m,\u001b[49m\n\u001b[0;32m     12\u001b[0m \u001b[43m      \u001b[49m\u001b[43mb_is_sparse\u001b[49m\u001b[38;5;241;43m=\u001b[39;49m\u001b[38;5;28;43;01mFalse\u001b[39;49;00m\u001b[43m,\u001b[49m\n\u001b[0;32m     13\u001b[0m \u001b[43m      \u001b[49m\u001b[43moutput_type\u001b[49m\u001b[38;5;241;43m=\u001b[39;49m\u001b[38;5;28;43;01mNone\u001b[39;49;00m\u001b[43m,\u001b[49m\n\u001b[0;32m     14\u001b[0m \u001b[43m      \u001b[49m\u001b[43mname\u001b[49m\u001b[38;5;241;43m=\u001b[39;49m\u001b[38;5;28;43;01mNone\u001b[39;49;00m\n\u001b[0;32m     15\u001b[0m \u001b[43m)\u001b[49m\n\u001b[0;32m     16\u001b[0m \u001b[38;5;28mprint\u001b[39m(\u001b[38;5;124m\"\u001b[39m\u001b[38;5;124mmat_1:\u001b[39m\u001b[38;5;130;01m\\t\u001b[39;00m\u001b[38;5;124m\"\u001b[39m,mat_1)\n\u001b[0;32m     17\u001b[0m \u001b[38;5;28mprint\u001b[39m(\u001b[38;5;124m\"\u001b[39m\u001b[38;5;124mmat_2:\u001b[39m\u001b[38;5;130;01m\\t\u001b[39;00m\u001b[38;5;124m\"\u001b[39m,mat_2)\n",
      "File \u001b[1;32m~\\anaconda3\\envs\\tensorflow_tutorial_env\\lib\\site-packages\\tensorflow\\python\\util\\traceback_utils.py:153\u001b[0m, in \u001b[0;36mfilter_traceback.<locals>.error_handler\u001b[1;34m(*args, **kwargs)\u001b[0m\n\u001b[0;32m    151\u001b[0m \u001b[38;5;28;01mexcept\u001b[39;00m \u001b[38;5;167;01mException\u001b[39;00m \u001b[38;5;28;01mas\u001b[39;00m e:\n\u001b[0;32m    152\u001b[0m   filtered_tb \u001b[38;5;241m=\u001b[39m _process_traceback_frames(e\u001b[38;5;241m.\u001b[39m__traceback__)\n\u001b[1;32m--> 153\u001b[0m   \u001b[38;5;28;01mraise\u001b[39;00m e\u001b[38;5;241m.\u001b[39mwith_traceback(filtered_tb) \u001b[38;5;28;01mfrom\u001b[39;00m \u001b[38;5;28;01mNone\u001b[39;00m\n\u001b[0;32m    154\u001b[0m \u001b[38;5;28;01mfinally\u001b[39;00m:\n\u001b[0;32m    155\u001b[0m   \u001b[38;5;28;01mdel\u001b[39;00m filtered_tb\n",
      "File \u001b[1;32m~\\anaconda3\\envs\\tensorflow_tutorial_env\\lib\\site-packages\\tensorflow\\python\\framework\\ops.py:6656\u001b[0m, in \u001b[0;36mraise_from_not_ok_status\u001b[1;34m(e, name)\u001b[0m\n\u001b[0;32m   6654\u001b[0m \u001b[38;5;28;01mdef\u001b[39;00m \u001b[38;5;21mraise_from_not_ok_status\u001b[39m(e, name):\n\u001b[0;32m   6655\u001b[0m   e\u001b[38;5;241m.\u001b[39mmessage \u001b[38;5;241m+\u001b[39m\u001b[38;5;241m=\u001b[39m (\u001b[38;5;124m\"\u001b[39m\u001b[38;5;124m name: \u001b[39m\u001b[38;5;124m\"\u001b[39m \u001b[38;5;241m+\u001b[39m \u001b[38;5;28mstr\u001b[39m(name \u001b[38;5;28;01mif\u001b[39;00m name \u001b[38;5;129;01mis\u001b[39;00m \u001b[38;5;129;01mnot\u001b[39;00m \u001b[38;5;28;01mNone\u001b[39;00m \u001b[38;5;28;01melse\u001b[39;00m \u001b[38;5;124m\"\u001b[39m\u001b[38;5;124m\"\u001b[39m))\n\u001b[1;32m-> 6656\u001b[0m   \u001b[38;5;28;01mraise\u001b[39;00m core\u001b[38;5;241m.\u001b[39m_status_to_exception(e) \u001b[38;5;28;01mfrom\u001b[39;00m \u001b[38;5;28;01mNone\u001b[39;00m\n",
      "\u001b[1;31mInvalidArgumentError\u001b[0m: {{function_node __wrapped__BatchMatMulV2_device_/job:localhost/replica:0/task:0/device:CPU:0}} Matrix size-incompatible: In[0]: [2,3,2], In[1]: [2,3,2] [Op:BatchMatMulV2] name: "
     ]
    }
   ],
   "source": [
    "mat_1 = tf.constant(np.arange(1, 13, dtype=np.int32), shape=[2, 3, 2])\n",
    "mat_2 = tf.constant(np.arange(13, 25, dtype=np.int32), shape=[2, 3, 2])\n",
    "\n",
    "mul = tf.linalg.matmul(\n",
    "      mat_1,\n",
    "      mat_2,\n",
    "      transpose_a=False,\n",
    "      transpose_b=False,\n",
    "      adjoint_a=False,\n",
    "      adjoint_b=False,\n",
    "      a_is_sparse=False,\n",
    "      b_is_sparse=False,\n",
    "      output_type=None,\n",
    "      name=None\n",
    ")\n",
    "print(\"mat_1:\\t\",mat_1)\n",
    "print(\"mat_2:\\t\",mat_2)\n",
    "print(\"shapes: \\t\",mat_1.shape,\" X \", mat_2.shape)\n",
    "print('mul: \\t', mul)"
   ]
  },
  {
   "cell_type": "code",
   "execution_count": null,
   "id": "2301dddf",
   "metadata": {},
   "outputs": [],
   "source": [
    "mat_1 = tf.constant(np.arange(1, 13, dtype=np.int32), shape=[2, 3, 2])\n",
    "mat_2 = tf.constant(np.arange(13, 25, dtype=np.int32), shape=[2, 3, 2])\n",
    "\n",
    "\n",
    "mul = tf.linalg.matmul(\n",
    "      mat_1,\n",
    "      mat_2,\n",
    "      transpose_a=True,\n",
    "      transpose_b=False,\n",
    "      adjoint_a=False,\n",
    "      adjoint_b=False,\n",
    "      a_is_sparse=False,\n",
    "      b_is_sparse=False,\n",
    "      output_type=None,\n",
    "      name=None\n",
    ")\n",
    "print(\"mat_1:\\t\",mat_1)\n",
    "print(\"mat_2:\\t\",mat_2)\n",
    "print(\"shapes: \\t\",mat_1.shape,\" X \", mat_2.shape)\n",
    "print('mul: \\t', mul)"
   ]
  },
  {
   "cell_type": "code",
   "execution_count": null,
   "id": "9f342e88",
   "metadata": {},
   "outputs": [],
   "source": [
    "mat_3 = tf.transpose(mat_2)\n",
    "print(\"mat_3:\\t\", mat_3)"
   ]
  },
  {
   "cell_type": "markdown",
   "id": "83321c68",
   "metadata": {},
   "source": [
    "# 4D"
   ]
  },
  {
   "cell_type": "code",
   "execution_count": null,
   "id": "304362df",
   "metadata": {},
   "outputs": [],
   "source": [
    "mat_1 = tf.constant(np.arange(1, 37, dtype=np.int32), shape=[2, 3, 2,3])\n",
    "mat_2 = tf.constant(np.arange(37, 73, dtype=np.int32), shape=[2, 3, 3,2])\n",
    "\n",
    "\n",
    "mul = tf.linalg.matmul(\n",
    "      mat_1,\n",
    "      mat_2,\n",
    "      transpose_a=False,\n",
    "      transpose_b=False,\n",
    "      adjoint_a=False,\n",
    "      adjoint_b=False,\n",
    "      a_is_sparse=False,\n",
    "      b_is_sparse=False,\n",
    "      output_type=None,\n",
    "      name=None\n",
    ")\n",
    "print(\"mat_1:\\t\",mat_1)\n",
    "print(\"mat_2:\\t\",mat_2)\n",
    "print(\"shapes: \\t\",mat_1.shape,\" X \", mat_2.shape)\n",
    "print('mul: \\t', mul)"
   ]
  },
  {
   "cell_type": "markdown",
   "id": "57b1e2c1",
   "metadata": {},
   "source": [
    "# band_part"
   ]
  },
  {
   "cell_type": "code",
   "execution_count": 10,
   "id": "e2c8658f",
   "metadata": {},
   "outputs": [
    {
     "data": {
      "text/plain": [
       "<tf.Tensor: shape=(4, 4), dtype=int32, numpy=\n",
       "array([[ 0,  1,  2,  3],\n",
       "       [-1,  5,  1,  2],\n",
       "       [-2, -1,  5,  1],\n",
       "       [-3, -2, -1,  0]])>"
      ]
     },
     "execution_count": 10,
     "metadata": {},
     "output_type": "execute_result"
    }
   ],
   "source": [
    "mat = tf.constant([[ 0,  1,  2, 3],\n",
    "                   [-1,  5,  1, 2],\n",
    "                   [-2, -1,  5, 1],\n",
    "                   [-3, -2, -1, 0]], dtype = tf.int32)\n",
    "mat"
   ]
  },
  {
   "cell_type": "code",
   "execution_count": 11,
   "id": "28afe8c6",
   "metadata": {},
   "outputs": [
    {
     "data": {
      "text/plain": [
       "<tf.Tensor: shape=(4, 4), dtype=int32, numpy=\n",
       "array([[ 0,  1,  2,  3],\n",
       "       [-1,  5,  1,  2],\n",
       "       [-2, -1,  5,  1],\n",
       "       [-3, -2, -1,  0]])>"
      ]
     },
     "execution_count": 11,
     "metadata": {},
     "output_type": "execute_result"
    }
   ],
   "source": [
    "l = -1 #If negative, keep entire lower triangle.\n",
    "u = -1 # If negative, keep entire upper triangle.\n",
    "tf.linalg.band_part(mat, l, u) "
   ]
  },
  {
   "cell_type": "code",
   "execution_count": 12,
   "id": "4f932b76",
   "metadata": {},
   "outputs": [
    {
     "data": {
      "text/plain": [
       "<tf.Tensor: shape=(4, 4), dtype=int32, numpy=\n",
       "array([[0, 0, 0, 0],\n",
       "       [0, 5, 0, 0],\n",
       "       [0, 0, 5, 0],\n",
       "       [0, 0, 0, 0]])>"
      ]
     },
     "execution_count": 12,
     "metadata": {},
     "output_type": "execute_result"
    }
   ],
   "source": [
    "l = 0 # 0 Number of subdiagonals to keep in lower\n",
    "u = 0 # 0 Number of subdiagonals to keep in upper\n",
    "# if both l and u are zeros it will be diagonal matrix\n",
    "tf.linalg.band_part(mat, l, u) "
   ]
  },
  {
   "cell_type": "code",
   "execution_count": 13,
   "id": "e1458a29",
   "metadata": {},
   "outputs": [
    {
     "data": {
      "text/plain": [
       "<tf.Tensor: shape=(4, 4), dtype=int32, numpy=\n",
       "array([[ 0,  0,  0,  0],\n",
       "       [-1,  5,  0,  0],\n",
       "       [ 0, -1,  5,  0],\n",
       "       [ 0,  0, -1,  0]])>"
      ]
     },
     "execution_count": 13,
     "metadata": {},
     "output_type": "execute_result"
    }
   ],
   "source": [
    "l = 1 # 0 Number of subdiagonals to keep in lower\n",
    "u = 0 # 0 Number of subdiagonals to keep in upper\n",
    "tf.linalg.band_part(mat, l, u) "
   ]
  },
  {
   "cell_type": "code",
   "execution_count": 14,
   "id": "f60d969d",
   "metadata": {},
   "outputs": [
    {
     "data": {
      "text/plain": [
       "<tf.Tensor: shape=(4, 4), dtype=int32, numpy=\n",
       "array([[ 0,  1,  2,  0],\n",
       "       [-1,  5,  1,  2],\n",
       "       [ 0, -1,  5,  1],\n",
       "       [ 0,  0, -1,  0]])>"
      ]
     },
     "execution_count": 14,
     "metadata": {},
     "output_type": "execute_result"
    }
   ],
   "source": [
    "l = 1 # 0 Number of subdiagonals to keep in lower\n",
    "u = 2 # 0 Number of subdiagonals to keep in upper\n",
    "tf.linalg.band_part(mat, l, u) "
   ]
  },
  {
   "cell_type": "code",
   "execution_count": 15,
   "id": "70e97f3d",
   "metadata": {},
   "outputs": [
    {
     "data": {
      "text/plain": [
       "<tf.Tensor: shape=(4, 4), dtype=int32, numpy=\n",
       "array([[ 0,  1,  0,  0],\n",
       "       [-1,  5,  1,  0],\n",
       "       [ 0, -1,  5,  1],\n",
       "       [ 0,  0, -1,  0]])>"
      ]
     },
     "execution_count": 15,
     "metadata": {},
     "output_type": "execute_result"
    }
   ],
   "source": [
    "l = 1 # 0 Number of subdiagonals to keep in lower\n",
    "u = 1 # 0 Number of subdiagonals to keep in upper\n",
    "tf.linalg.band_part(mat, l, u) "
   ]
  },
  {
   "cell_type": "markdown",
   "id": "f332e4b0",
   "metadata": {},
   "source": [
    "# inv"
   ]
  },
  {
   "cell_type": "code",
   "execution_count": 16,
   "id": "f7bd867d",
   "metadata": {},
   "outputs": [
    {
     "name": "stdout",
     "output_type": "stream",
     "text": [
      "tf.Tensor(\n",
      "[[ 0.33333334 -1.        ]\n",
      " [-0.2         0.8       ]], shape=(2, 2), dtype=float32)\n"
     ]
    }
   ],
   "source": [
    "mat_1 = tf.constant([[12, 3],\n",
    "                   [15, 5]], dtype = tf.float32)\n",
    "result = tf.linalg.inv(\n",
    "    mat_1, adjoint=True, name=None\n",
    ")\n",
    "print(result)"
   ]
  },
  {
   "cell_type": "code",
   "execution_count": 17,
   "id": "0e9e5fc1",
   "metadata": {},
   "outputs": [
    {
     "data": {
      "text/plain": [
       "<tf.Tensor: shape=(2, 2), dtype=float32, numpy=\n",
       "array([[12.,  3.],\n",
       "       [15.,  5.]], dtype=float32)>"
      ]
     },
     "execution_count": 17,
     "metadata": {},
     "output_type": "execute_result"
    }
   ],
   "source": [
    "tf.round(tf.linalg.inv(\n",
    "    result, adjoint=True, name=None\n",
    "))"
   ]
  },
  {
   "cell_type": "markdown",
   "id": "c0729bd4",
   "metadata": {},
   "source": [
    "# svd"
   ]
  },
  {
   "cell_type": "code",
   "execution_count": 18,
   "id": "2a0b5f1d",
   "metadata": {},
   "outputs": [
    {
     "name": "stdout",
     "output_type": "stream",
     "text": [
      "mat_1:\t tf.Tensor(\n",
      "[[12.  3.]\n",
      " [15.  5.]], shape=(2, 2), dtype=float32)\n",
      "\n",
      "S:\t tf.Tensor([20.060928  0.747722], shape=(2,), dtype=float32)\n",
      "\n",
      "U:\t tf.Tensor(\n",
      "[[ 0.61588776 -0.78783387]\n",
      " [ 0.78783387  0.61588776]], shape=(2, 2), dtype=float32)\n",
      "\n",
      "V:\t tf.Tensor(\n",
      "[[ 0.9574911  -0.28846282]\n",
      " [ 0.28846282  0.9574911 ]], shape=(2, 2), dtype=float32)\n"
     ]
    }
   ],
   "source": [
    "s, u, v = tf.linalg.svd(mat_1)\n",
    "print(\"mat_1:\\t\", mat_1)\n",
    "print(\"\\nS:\\t\", s)\n",
    "print(\"\\nU:\\t\", u)\n",
    "print(\"\\nV:\\t\", v)"
   ]
  },
  {
   "cell_type": "code",
   "execution_count": 19,
   "id": "401ee1ca",
   "metadata": {},
   "outputs": [
    {
     "name": "stdout",
     "output_type": "stream",
     "text": [
      "(2, 3)\n",
      "(2, 2)\n"
     ]
    },
    {
     "data": {
      "text/plain": [
       "(3, 2)"
      ]
     },
     "execution_count": 19,
     "metadata": {},
     "output_type": "execute_result"
    }
   ],
   "source": [
    "a = np.array([[1, 2,3], [5,5, 6]])\n",
    "print(a.shape)\n",
    "b = np.array([[2, 6], [6, 2]])\n",
    "print(b.shape)\n",
    "np.einsum(\"ij,jk -> ik\",a.T,b).shape"
   ]
  },
  {
   "cell_type": "code",
   "execution_count": 20,
   "id": "7b063381",
   "metadata": {},
   "outputs": [
    {
     "data": {
      "text/plain": [
       "(2, 4, 4, 2)"
      ]
     },
     "execution_count": 20,
     "metadata": {},
     "output_type": "execute_result"
    }
   ],
   "source": [
    "a = np.random.randn(2, 4, 4, 2)\n",
    "b = np.random.randn(2, 4, 4, 2)\n",
    "np.einsum(\"abcd,abce -> abce\",a,b).shape"
   ]
  },
  {
   "cell_type": "code",
   "execution_count": 21,
   "id": "f24b8d48",
   "metadata": {
    "scrolled": true
   },
   "outputs": [
    {
     "name": "stdout",
     "output_type": "stream",
     "text": [
      "tf.Tensor(\n",
      "[[1. 3.]\n",
      " [5. 7.]], shape=(2, 2), dtype=float32)\n"
     ]
    }
   ],
   "source": [
    "mat = tf.constant([[1, 3], \n",
    "                   [5, 7]], dtype = tf.float32)\n",
    "print(mat)\n"
   ]
  },
  {
   "cell_type": "markdown",
   "id": "a039cc09",
   "metadata": {},
   "source": [
    "# Det"
   ]
  },
  {
   "cell_type": "code",
   "execution_count": 22,
   "id": "a60aad76",
   "metadata": {},
   "outputs": [
    {
     "data": {
      "text/plain": [
       "<tf.Tensor: shape=(), dtype=float32, numpy=-8.0>"
      ]
     },
     "execution_count": 22,
     "metadata": {},
     "output_type": "execute_result"
    }
   ],
   "source": [
    "tf.linalg.det(mat)"
   ]
  },
  {
   "cell_type": "code",
   "execution_count": null,
   "id": "37f3f118",
   "metadata": {},
   "outputs": [],
   "source": []
  }
 ],
 "metadata": {
  "kernelspec": {
   "display_name": "Python 3 (ipykernel)",
   "language": "python",
   "name": "python3"
  },
  "language_info": {
   "codemirror_mode": {
    "name": "ipython",
    "version": 3
   },
   "file_extension": ".py",
   "mimetype": "text/x-python",
   "name": "python",
   "nbconvert_exporter": "python",
   "pygments_lexer": "ipython3",
   "version": "3.9.17"
  }
 },
 "nbformat": 4,
 "nbformat_minor": 5
}
