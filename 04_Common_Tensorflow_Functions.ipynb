{
 "cells": [
  {
   "cell_type": "code",
   "execution_count": 1,
   "id": "6d9baa8b",
   "metadata": {},
   "outputs": [],
   "source": [
    "import tensorflow as tf\n",
    "import numpy as np"
   ]
  },
  {
   "cell_type": "markdown",
   "id": "100912a4",
   "metadata": {},
   "source": [
    "# tf.expand_dims"
   ]
  },
  {
   "cell_type": "code",
   "execution_count": 2,
   "id": "b9de388b",
   "metadata": {},
   "outputs": [
    {
     "name": "stdout",
     "output_type": "stream",
     "text": [
      "mat_1:\t tf.Tensor([1 2 3], shape=(3,), dtype=int32)\n"
     ]
    }
   ],
   "source": [
    "mat_1 = tf.constant([1, 2, 3])\n",
    "print('mat_1:\\t', mat_1)"
   ]
  },
  {
   "cell_type": "code",
   "execution_count": 3,
   "id": "596debe2",
   "metadata": {},
   "outputs": [
    {
     "name": "stdout",
     "output_type": "stream",
     "text": [
      "expanded_mat_1:\t tf.Tensor([[1 2 3]], shape=(1, 3), dtype=int32)\n"
     ]
    }
   ],
   "source": [
    "expanded_mat_1 = tf.expand_dims(\n",
    "    mat_1, axis=0, name=None\n",
    ")\n",
    "print('expanded_mat_1:\\t', expanded_mat_1)"
   ]
  },
  {
   "cell_type": "code",
   "execution_count": 4,
   "id": "e9abcf6f",
   "metadata": {},
   "outputs": [
    {
     "name": "stdout",
     "output_type": "stream",
     "text": [
      "expanded_mat_1:\t tf.Tensor(\n",
      "[[1]\n",
      " [2]\n",
      " [3]], shape=(3, 1), dtype=int32)\n"
     ]
    }
   ],
   "source": [
    "expanded_mat_1 = tf.expand_dims(\n",
    "    mat_1, axis=1, name=None\n",
    ")\n",
    "print('expanded_mat_1:\\t', expanded_mat_1)"
   ]
  },
  {
   "cell_type": "code",
   "execution_count": 5,
   "id": "93ee8f4a",
   "metadata": {},
   "outputs": [
    {
     "name": "stdout",
     "output_type": "stream",
     "text": [
      "expanded_mat_1:\t tf.Tensor([[1 2 3]], shape=(1, 3), dtype=int32)\n"
     ]
    }
   ],
   "source": [
    "expanded_mat_1 = tf.expand_dims(mat_1, axis = 0)\n",
    "print('expanded_mat_1:\\t', expanded_mat_1)"
   ]
  },
  {
   "cell_type": "code",
   "execution_count": 6,
   "id": "b44999c6",
   "metadata": {},
   "outputs": [
    {
     "name": "stdout",
     "output_type": "stream",
     "text": [
      "mat_2:\t tf.Tensor(\n",
      "[[1 2 3]\n",
      " [6 5 2]], shape=(2, 3), dtype=int32)\n"
     ]
    }
   ],
   "source": [
    "mat_2 = tf.constant([[1, 2, 3],\n",
    "                    [6, 5, 2]])\n",
    "print('mat_2:\\t', mat_2)"
   ]
  },
  {
   "cell_type": "code",
   "execution_count": 7,
   "id": "2a50b0e1",
   "metadata": {},
   "outputs": [
    {
     "name": "stdout",
     "output_type": "stream",
     "text": [
      "expanded_mat_2:\t tf.Tensor(\n",
      "[[[1 2 3]\n",
      "  [6 5 2]]], shape=(1, 2, 3), dtype=int32)\n"
     ]
    }
   ],
   "source": [
    "expanded_mat_2 = tf.expand_dims(mat_2, axis = 0)\n",
    "print('expanded_mat_2:\\t', expanded_mat_2)"
   ]
  },
  {
   "cell_type": "code",
   "execution_count": 8,
   "id": "b390611a",
   "metadata": {},
   "outputs": [
    {
     "name": "stdout",
     "output_type": "stream",
     "text": [
      "expanded_mat_2:\t tf.Tensor(\n",
      "[[[1 2 3]]\n",
      "\n",
      " [[6 5 2]]], shape=(2, 1, 3), dtype=int32)\n"
     ]
    }
   ],
   "source": [
    "expanded_mat_2 = tf.expand_dims(mat_2, axis = 1)\n",
    "print('expanded_mat_2:\\t', expanded_mat_2)"
   ]
  },
  {
   "cell_type": "code",
   "execution_count": 9,
   "id": "3e253565",
   "metadata": {},
   "outputs": [
    {
     "name": "stdout",
     "output_type": "stream",
     "text": [
      "expanded_mat_2:\t tf.Tensor(\n",
      "[[[1]\n",
      "  [2]\n",
      "  [3]]\n",
      "\n",
      " [[6]\n",
      "  [5]\n",
      "  [2]]], shape=(2, 3, 1), dtype=int32)\n"
     ]
    }
   ],
   "source": [
    "expanded_mat_2 = tf.expand_dims(mat_2, axis = 2)\n",
    "print('expanded_mat_2:\\t', expanded_mat_2)"
   ]
  },
  {
   "cell_type": "markdown",
   "id": "9788a929",
   "metadata": {},
   "source": [
    "# tf.squeeze"
   ]
  },
  {
   "cell_type": "code",
   "execution_count": 10,
   "id": "e14dcee1",
   "metadata": {},
   "outputs": [
    {
     "name": "stdout",
     "output_type": "stream",
     "text": [
      "expanded_mat_1:\t tf.Tensor([[1 2 3]], shape=(1, 3), dtype=int32)\n"
     ]
    }
   ],
   "source": [
    "print('expanded_mat_1:\\t', expanded_mat_1)"
   ]
  },
  {
   "cell_type": "code",
   "execution_count": 11,
   "id": "c37adce1",
   "metadata": {},
   "outputs": [
    {
     "name": "stdout",
     "output_type": "stream",
     "text": [
      "squeezed_dim_1:\t tf.Tensor([1 2 3], shape=(3,), dtype=int32)\n"
     ]
    }
   ],
   "source": [
    "squeezed_dim_1 =tf.squeeze(\n",
    "    expanded_mat_1, axis=0, name=None\n",
    ") \n",
    "print('squeezed_dim_1:\\t', squeezed_dim_1)"
   ]
  },
  {
   "cell_type": "code",
   "execution_count": 12,
   "id": "7920464a",
   "metadata": {},
   "outputs": [
    {
     "name": "stdout",
     "output_type": "stream",
     "text": [
      "expanded_mat_2:\t tf.Tensor(\n",
      "[[[1]\n",
      "  [2]\n",
      "  [3]]\n",
      "\n",
      " [[6]\n",
      "  [5]\n",
      "  [2]]], shape=(2, 3, 1), dtype=int32)\n"
     ]
    }
   ],
   "source": [
    "print('expanded_mat_2:\\t', expanded_mat_2)"
   ]
  },
  {
   "cell_type": "code",
   "execution_count": 13,
   "id": "f5606045",
   "metadata": {},
   "outputs": [
    {
     "name": "stdout",
     "output_type": "stream",
     "text": [
      "squeezed_dim_2:\t tf.Tensor(\n",
      "[[1 2 3]\n",
      " [6 5 2]], shape=(2, 3), dtype=int32)\n"
     ]
    }
   ],
   "source": [
    "squeezed_dim_2 =tf.squeeze(\n",
    "    expanded_mat_2, axis=2, name=None\n",
    ") \n",
    "print('squeezed_dim_2:\\t', squeezed_dim_2)"
   ]
  },
  {
   "cell_type": "markdown",
   "id": "db8ad965",
   "metadata": {},
   "source": [
    "# tf.reshape"
   ]
  },
  {
   "cell_type": "code",
   "execution_count": 14,
   "id": "b53e79f2",
   "metadata": {},
   "outputs": [
    {
     "name": "stdout",
     "output_type": "stream",
     "text": [
      "reshaped_dim_2:\t tf.Tensor(\n",
      "[[1 2 3]\n",
      " [6 5 2]], shape=(2, 3), dtype=int32)\n"
     ]
    }
   ],
   "source": [
    "reshaped_dim_2 =tf.reshape(\n",
    "    expanded_mat_2, shape=[2,3], name=None\n",
    ") \n",
    "print('reshaped_dim_2:\\t', reshaped_dim_2)"
   ]
  },
  {
   "cell_type": "code",
   "execution_count": 15,
   "id": "bdb54b56",
   "metadata": {},
   "outputs": [
    {
     "name": "stdout",
     "output_type": "stream",
     "text": [
      "reshaped_dim_2:\t tf.Tensor(\n",
      "[[1 2]\n",
      " [3 6]\n",
      " [5 2]], shape=(3, 2), dtype=int32)\n"
     ]
    }
   ],
   "source": [
    "reshaped_dim_2 =tf.reshape(\n",
    "    expanded_mat_2, shape=[3, 2], name=None\n",
    ") \n",
    "print('reshaped_dim_2:\\t', reshaped_dim_2)"
   ]
  },
  {
   "cell_type": "markdown",
   "id": "d7ae38df",
   "metadata": {},
   "source": [
    "# tf.concat"
   ]
  },
  {
   "cell_type": "code",
   "execution_count": 16,
   "id": "8301d87f",
   "metadata": {},
   "outputs": [
    {
     "name": "stdout",
     "output_type": "stream",
     "text": [
      "concanated_rows:\t tf.Tensor(\n",
      "[[ 1  2  3]\n",
      " [ 4  5  6]\n",
      " [ 7  8  9]\n",
      " [10 11 12]], shape=(4, 3), dtype=int32)\n"
     ]
    }
   ],
   "source": [
    "t1 = tf.constant([[1, 2, 3], \n",
    "                  [4, 5, 6]])\n",
    "t2 = tf.constant([[7, 8, 9], \n",
    "                  [10, 11, 12]])\n",
    "concanated_rows = tf.concat([t1, t2], axis = 0)\n",
    "print(\"concanated_rows:\\t\", concanated_rows)"
   ]
  },
  {
   "cell_type": "code",
   "execution_count": 17,
   "id": "00eef578",
   "metadata": {},
   "outputs": [
    {
     "name": "stdout",
     "output_type": "stream",
     "text": [
      "concanated_columns:\t tf.Tensor(\n",
      "[[ 1  2  3  7  8  9]\n",
      " [ 4  5  6 10 11 12]], shape=(2, 6), dtype=int32)\n"
     ]
    }
   ],
   "source": [
    "concanated_columns = tf.concat([t1, t2], axis = 1)\n",
    "print(\"concanated_columns:\\t\", concanated_columns)"
   ]
  },
  {
   "cell_type": "markdown",
   "id": "b562477e",
   "metadata": {},
   "source": [
    "# tf.stack"
   ]
  },
  {
   "cell_type": "code",
   "execution_count": 18,
   "id": "6a82a3bc",
   "metadata": {},
   "outputs": [
    {
     "name": "stdout",
     "output_type": "stream",
     "text": [
      "stacked_0:\t tf.Tensor(\n",
      "[[1 4]\n",
      " [2 5]\n",
      " [3 6]], shape=(3, 2), dtype=int32)\n"
     ]
    }
   ],
   "source": [
    "x = tf.constant([1, 4])\n",
    "y = tf.constant([2, 5])\n",
    "z = tf.constant([3, 6])\n",
    "stacked_0 = tf.stack([x, y, z], axis=0)\n",
    "print(\"stacked_0:\\t\", stacked_0)"
   ]
  },
  {
   "cell_type": "code",
   "execution_count": 19,
   "id": "a4d6a155",
   "metadata": {},
   "outputs": [
    {
     "name": "stdout",
     "output_type": "stream",
     "text": [
      "stacked_1:\t tf.Tensor(\n",
      "[[1 2 3]\n",
      " [4 5 6]], shape=(2, 3), dtype=int32)\n"
     ]
    }
   ],
   "source": [
    "stacked_1 = tf.stack([x, y, z], axis=1)\n",
    "print(\"stacked_1:\\t\", stacked_1)"
   ]
  },
  {
   "cell_type": "code",
   "execution_count": 20,
   "id": "15d5f09d",
   "metadata": {},
   "outputs": [
    {
     "name": "stdout",
     "output_type": "stream",
     "text": [
      "stacked_0:\t tf.Tensor(\n",
      "[[[ 1  4  8]\n",
      "  [ 3  5  9]]\n",
      "\n",
      " [[ 2  5  3]\n",
      "  [ 2  5  4]]\n",
      "\n",
      " [[ 3  6 11]\n",
      "  [ 2  7 66]]], shape=(3, 2, 3), dtype=int32)\n"
     ]
    }
   ],
   "source": [
    "x = tf.constant([[1, 4, 8],\n",
    "                 [3, 5, 9]])\n",
    "y = tf.constant([[2, 5, 3],\n",
    "                [2, 5, 4]])\n",
    "z = tf.constant([[3, 6, 11],\n",
    "                [2, 7, 66]])\n",
    "stacked_0 = tf.stack([x, y, z], axis=0)\n",
    "print(\"stacked_0:\\t\", stacked_0)"
   ]
  },
  {
   "cell_type": "code",
   "execution_count": 21,
   "id": "12aa0b85",
   "metadata": {},
   "outputs": [
    {
     "name": "stdout",
     "output_type": "stream",
     "text": [
      "stacked_0:\t tf.Tensor(\n",
      "[[[ 1  4  8]\n",
      "  [ 2  5  3]\n",
      "  [ 3  6 11]]\n",
      "\n",
      " [[ 3  5  9]\n",
      "  [ 2  5  4]\n",
      "  [ 2  7 66]]], shape=(2, 3, 3), dtype=int32)\n"
     ]
    }
   ],
   "source": [
    "stacked_0 = tf.stack([x, y, z], axis=1)\n",
    "print(\"stacked_0:\\t\", stacked_0)"
   ]
  },
  {
   "cell_type": "code",
   "execution_count": 22,
   "id": "216557fd",
   "metadata": {},
   "outputs": [
    {
     "data": {
      "text/plain": [
       "<tf.Tensor: shape=(3, 2, 3), dtype=int32, numpy=\n",
       "array([[[ 1,  4,  8],\n",
       "        [ 3,  5,  9]],\n",
       "\n",
       "       [[ 2,  5,  3],\n",
       "        [ 2,  5,  4]],\n",
       "\n",
       "       [[ 3,  6, 11],\n",
       "        [ 2,  7, 66]]])>"
      ]
     },
     "execution_count": 22,
     "metadata": {},
     "output_type": "execute_result"
    }
   ],
   "source": [
    "tf.concat([tf.expand_dims(t, axis = 0) for t in [x,y,z]], axis = 0)"
   ]
  },
  {
   "cell_type": "code",
   "execution_count": 23,
   "id": "1a18a258",
   "metadata": {},
   "outputs": [
    {
     "data": {
      "text/plain": [
       "<tf.Tensor: shape=(2, 3, 3), dtype=int32, numpy=\n",
       "array([[[ 1,  4,  8],\n",
       "        [ 2,  5,  3],\n",
       "        [ 3,  6, 11]],\n",
       "\n",
       "       [[ 3,  5,  9],\n",
       "        [ 2,  5,  4],\n",
       "        [ 2,  7, 66]]])>"
      ]
     },
     "execution_count": 23,
     "metadata": {},
     "output_type": "execute_result"
    }
   ],
   "source": [
    "tf.concat([tf.expand_dims(t, axis = 1) for t in [x,y,z]], axis = 1)"
   ]
  },
  {
   "cell_type": "code",
   "execution_count": 24,
   "id": "5a9b0ec9",
   "metadata": {},
   "outputs": [
    {
     "name": "stdout",
     "output_type": "stream",
     "text": [
      "tf.Tensor(\n",
      "[[[1 4 8]\n",
      "  [3 5 9]]], shape=(1, 2, 3), dtype=int32)\n",
      "tf.Tensor(\n",
      "[[[2 5 3]\n",
      "  [2 5 4]]], shape=(1, 2, 3), dtype=int32)\n",
      "tf.Tensor(\n",
      "[[[ 3  6 11]\n",
      "  [ 2  7 66]]], shape=(1, 2, 3), dtype=int32)\n"
     ]
    }
   ],
   "source": [
    "for t in [x,y,z]: print(tf.expand_dims(t, axis = 0)) "
   ]
  },
  {
   "cell_type": "markdown",
   "id": "457bc188",
   "metadata": {},
   "source": [
    "# tf.pad"
   ]
  },
  {
   "cell_type": "code",
   "execution_count": 25,
   "id": "7dfc612e",
   "metadata": {},
   "outputs": [
    {
     "name": "stdout",
     "output_type": "stream",
     "text": [
      "res:\t tf.Tensor(\n",
      "[[0 0 0 0 0 0 0]\n",
      " [0 0 1 2 3 0 0]\n",
      " [0 0 4 5 6 0 0]\n",
      " [0 0 0 0 0 0 0]], shape=(4, 7), dtype=int32)\n"
     ]
    }
   ],
   "source": [
    "t = tf.constant([[1, 2, 3],\n",
    "                 [4, 5, 6]])\n",
    "\n",
    "paddings = tf.constant([[1, 1], # num of rows in top and num of rows in buttom\n",
    "                        [2, 2]]) # num of rows in left and num of rows in right\n",
    "res = tf.pad(t, paddings, \"CONSTANT\")\n",
    "\n",
    "print(\"res:\\t\", res)"
   ]
  },
  {
   "cell_type": "code",
   "execution_count": 26,
   "id": "6c406823",
   "metadata": {},
   "outputs": [
    {
     "name": "stdout",
     "output_type": "stream",
     "text": [
      "res:\t tf.Tensor(\n",
      "[[10 10 10 10 10 10 10]\n",
      " [10 10  1  2  3 10 10]\n",
      " [10 10  4  5  6 10 10]\n",
      " [10 10 10 10 10 10 10]], shape=(4, 7), dtype=int32)\n"
     ]
    }
   ],
   "source": [
    "res = tf.pad(t, paddings, \"CONSTANT\", constant_values = 10)\n",
    "print(\"res:\\t\", res)"
   ]
  },
  {
   "cell_type": "code",
   "execution_count": 27,
   "id": "f601178c",
   "metadata": {},
   "outputs": [
    {
     "name": "stdout",
     "output_type": "stream",
     "text": [
      "res:\t tf.Tensor(\n",
      "[[6 5 4 5 6 5 4]\n",
      " [3 2 1 2 3 2 1]\n",
      " [6 5 4 5 6 5 4]\n",
      " [3 2 1 2 3 2 1]], shape=(4, 7), dtype=int32)\n"
     ]
    }
   ],
   "source": [
    "t = tf.constant([[1, 2, 3],\n",
    "                 [4, 5, 6]])\n",
    "\n",
    "paddings = tf.constant([[1, 1], # num of rows in top and num of rows in buttom\n",
    "                        [2, 2]]) # num of rows in left and num of rows in right\n",
    "\n",
    "res = tf.pad(t, paddings, \"REFLECT\")\n",
    "print(\"res:\\t\", res)"
   ]
  },
  {
   "cell_type": "code",
   "execution_count": 28,
   "id": "c5fb4e8b",
   "metadata": {},
   "outputs": [
    {
     "name": "stdout",
     "output_type": "stream",
     "text": [
      "res:\t tf.Tensor(\n",
      "[[6 5 4 5 6 5 4]\n",
      " [3 2 1 2 3 2 1]\n",
      " [6 5 4 5 6 5 4]\n",
      " [3 2 1 2 3 2 1]], shape=(4, 7), dtype=int32)\n"
     ]
    }
   ],
   "source": [
    "t = tf.constant([[1, 2, 3],\n",
    "                 [4, 5, 6]])\n",
    "\n",
    "paddings = tf.constant([[1, 1], # num of rows in top and num of rows in buttom\n",
    "                        [2, 2]]) # num of rows in left and num of rows in right\n",
    "\n",
    "res = tf.pad(t, paddings, \"REFLECT\")\n",
    "print(\"res:\\t\", res)"
   ]
  },
  {
   "cell_type": "code",
   "execution_count": 29,
   "id": "d40f52f1",
   "metadata": {},
   "outputs": [
    {
     "name": "stdout",
     "output_type": "stream",
     "text": [
      "res:\t tf.Tensor(\n",
      "[[5 4 4 5 6 6 5]\n",
      " [2 1 1 2 3 3 2]\n",
      " [2 1 1 2 3 3 2]\n",
      " [5 4 4 5 6 6 5]\n",
      " [5 4 4 5 6 6 5]\n",
      " [2 1 1 2 3 3 2]], shape=(6, 7), dtype=int32)\n"
     ]
    }
   ],
   "source": [
    "t = tf.constant([[1, 2, 3],\n",
    "                 [4, 5, 6]])\n",
    "\n",
    "paddings = tf.constant([[2, 2], # num of rows in top and num of rows in buttom\n",
    "                        [2, 2]]) # num of rows in left and num of rows in right\n",
    "\n",
    "res = tf.pad(t, paddings, \"SYMMETRIC\")\n",
    "print(\"res:\\t\", res)"
   ]
  },
  {
   "cell_type": "markdown",
   "id": "48449e3e",
   "metadata": {},
   "source": [
    "# tf.gather"
   ]
  },
  {
   "cell_type": "code",
   "execution_count": 30,
   "id": "31342a0d",
   "metadata": {},
   "outputs": [
    {
     "name": "stdout",
     "output_type": "stream",
     "text": [
      "tf.Tensor([b'p0' b'p1' b'p2'], shape=(3,), dtype=string)\n"
     ]
    }
   ],
   "source": [
    "params = tf.constant(['p0', 'p1', 'p2', 'p3', 'p4', 'p5'])\n",
    "print(tf.gather(params, [0,1,2]))"
   ]
  },
  {
   "cell_type": "code",
   "execution_count": 31,
   "id": "0bb242da",
   "metadata": {},
   "outputs": [
    {
     "name": "stdout",
     "output_type": "stream",
     "text": [
      "tf.Tensor([b'p0' b'p3' b'p2'], shape=(3,), dtype=string)\n"
     ]
    }
   ],
   "source": [
    "print(tf.gather(params, [0,3,2]))"
   ]
  },
  {
   "cell_type": "code",
   "execution_count": 32,
   "id": "523e05f9",
   "metadata": {},
   "outputs": [
    {
     "name": "stdout",
     "output_type": "stream",
     "text": [
      "tf.Tensor([b'p4' b'p2'], shape=(2,), dtype=string)\n"
     ]
    }
   ],
   "source": [
    "print(tf.gather(params, [4,2]))"
   ]
  },
  {
   "cell_type": "code",
   "execution_count": 33,
   "id": "befaf72f",
   "metadata": {},
   "outputs": [
    {
     "name": "stdout",
     "output_type": "stream",
     "text": [
      "tf.Tensor(\n",
      "[[1 2 3]\n",
      " [4 5 6]], shape=(2, 3), dtype=int32)\n"
     ]
    }
   ],
   "source": [
    "parames = tf.constant([[1, 2, 3],\n",
    "                       [4, 5, 6]])\n",
    "print(tf.gather(parames, [0, 1]))"
   ]
  },
  {
   "cell_type": "code",
   "execution_count": 34,
   "id": "d3019f48",
   "metadata": {},
   "outputs": [
    {
     "name": "stdout",
     "output_type": "stream",
     "text": [
      "tf.Tensor(\n",
      "[[1 3]\n",
      " [4 6]], shape=(2, 2), dtype=int32)\n"
     ]
    }
   ],
   "source": [
    "print(tf.gather(parames, [0,2], axis = 1))"
   ]
  },
  {
   "cell_type": "markdown",
   "id": "ec5c350f",
   "metadata": {},
   "source": [
    "# tf.gather_nd"
   ]
  },
  {
   "cell_type": "code",
   "execution_count": 35,
   "id": "97c7a8b3",
   "metadata": {},
   "outputs": [
    {
     "name": "stdout",
     "output_type": "stream",
     "text": [
      "params:\t tf.Tensor(\n",
      "[[b'a' b'b']\n",
      " [b'c' b'd']\n",
      " [b'e' b'f']], shape=(3, 2), dtype=string)\n"
     ]
    }
   ],
   "source": [
    "params = tf.constant([['a', 'b'],\n",
    "                      ['c', 'd'],\n",
    "                      ['e', 'f']])\n",
    "print(\"params:\\t\", params)"
   ]
  },
  {
   "cell_type": "code",
   "execution_count": 36,
   "id": "22764710",
   "metadata": {},
   "outputs": [
    {
     "name": "stdout",
     "output_type": "stream",
     "text": [
      "tf.Tensor([[b'c' b'd']], shape=(1, 2), dtype=string)\n"
     ]
    }
   ],
   "source": [
    "indices = [[1]]\n",
    "print(tf.gather_nd(params, indices))"
   ]
  },
  {
   "cell_type": "code",
   "execution_count": 37,
   "id": "54082b90",
   "metadata": {},
   "outputs": [
    {
     "name": "stdout",
     "output_type": "stream",
     "text": [
      "tf.Tensor([b'c' b'd'], shape=(2,), dtype=string)\n"
     ]
    }
   ],
   "source": [
    "indices = [1]\n",
    "print(tf.gather_nd(params, indices))"
   ]
  },
  {
   "cell_type": "code",
   "execution_count": 38,
   "id": "9310ea39",
   "metadata": {},
   "outputs": [
    {
     "name": "stdout",
     "output_type": "stream",
     "text": [
      "tf.Tensor(\n",
      "[[b'c' b'd']\n",
      " [b'e' b'f']], shape=(2, 2), dtype=string)\n"
     ]
    }
   ],
   "source": [
    "indices = [[1],[2]]\n",
    "print(tf.gather_nd(params, indices))"
   ]
  },
  {
   "cell_type": "code",
   "execution_count": 39,
   "id": "37d51781",
   "metadata": {},
   "outputs": [
    {
     "data": {
      "text/plain": [
       "<tf.Tensor: shape=(2, 2, 2), dtype=string, numpy=\n",
       "array([[[b'c0', b'd0'],\n",
       "        [b'a1', b'b1']],\n",
       "\n",
       "       [[b'a0', b'b0'],\n",
       "        [b'c1', b'd1']]], dtype=object)>"
      ]
     },
     "execution_count": 39,
     "metadata": {},
     "output_type": "execute_result"
    }
   ],
   "source": [
    "tf.gather_nd(\n",
    "    indices = [[[0, 1], [1, 0]], [[0, 0], [1, 1]]],\n",
    "    params = [[['a0', 'b0'], \n",
    "               ['c0', 'd0']],\n",
    "              \n",
    "              [['a1', 'b1'], \n",
    "               ['c1', 'd1']]])"
   ]
  },
  {
   "cell_type": "code",
   "execution_count": null,
   "id": "aa334f63",
   "metadata": {},
   "outputs": [],
   "source": []
  }
 ],
 "metadata": {
  "kernelspec": {
   "display_name": "Python 3 (ipykernel)",
   "language": "python",
   "name": "python3"
  },
  "language_info": {
   "codemirror_mode": {
    "name": "ipython",
    "version": 3
   },
   "file_extension": ".py",
   "mimetype": "text/x-python",
   "name": "python",
   "nbconvert_exporter": "python",
   "pygments_lexer": "ipython3",
   "version": "3.9.17"
  }
 },
 "nbformat": 4,
 "nbformat_minor": 5
}
