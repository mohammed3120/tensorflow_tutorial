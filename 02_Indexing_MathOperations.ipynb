{
 "cells": [
  {
   "cell_type": "code",
   "execution_count": 1,
   "id": "466132fb",
   "metadata": {},
   "outputs": [],
   "source": [
    "import tensorflow as tf\n",
    "import numpy as np"
   ]
  },
  {
   "cell_type": "markdown",
   "id": "d98f0a73",
   "metadata": {},
   "source": [
    "# Indexing"
   ]
  },
  {
   "cell_type": "code",
   "execution_count": 2,
   "id": "58c36def",
   "metadata": {},
   "outputs": [
    {
     "name": "stdout",
     "output_type": "stream",
     "text": [
      "constant_tensor:\t tf.Tensor([1 2 3 4 5 6], shape=(6,), dtype=int32)\n"
     ]
    }
   ],
   "source": [
    "constant_tensor = tf.constant([1, 2, 3, 4, 5, 6])\n",
    "print(\"constant_tensor:\\t\", constant_tensor)"
   ]
  },
  {
   "cell_type": "code",
   "execution_count": 3,
   "id": "9a9b03e7",
   "metadata": {},
   "outputs": [
    {
     "data": {
      "text/plain": [
       "<tf.Tensor: shape=(), dtype=int32, numpy=1>"
      ]
     },
     "execution_count": 3,
     "metadata": {},
     "output_type": "execute_result"
    }
   ],
   "source": [
    "constant_tensor[0]"
   ]
  },
  {
   "cell_type": "code",
   "execution_count": 4,
   "id": "b189bb9e",
   "metadata": {},
   "outputs": [
    {
     "data": {
      "text/plain": [
       "<tf.Tensor: shape=(), dtype=int32, numpy=3>"
      ]
     },
     "execution_count": 4,
     "metadata": {},
     "output_type": "execute_result"
    }
   ],
   "source": [
    "constant_tensor[2]"
   ]
  },
  {
   "cell_type": "code",
   "execution_count": 5,
   "id": "e8b3ce14",
   "metadata": {},
   "outputs": [
    {
     "data": {
      "text/plain": [
       "<tf.Tensor: shape=(), dtype=int32, numpy=6>"
      ]
     },
     "execution_count": 5,
     "metadata": {},
     "output_type": "execute_result"
    }
   ],
   "source": [
    "constant_tensor[-1]"
   ]
  },
  {
   "cell_type": "code",
   "execution_count": 6,
   "id": "fcdf8b75",
   "metadata": {},
   "outputs": [
    {
     "name": "stdout",
     "output_type": "stream",
     "text": [
      "constant_tensor2:\t tf.Tensor(\n",
      "[[ 1  2  3  4  5  6]\n",
      " [ 7  8  9 10 11 12]], shape=(2, 6), dtype=int32)\n"
     ]
    }
   ],
   "source": [
    "constant_tensor2 = tf.constant([[1, 2, 3, 4, 5, 6],[7,8,9,10,11,12]])\n",
    "print(\"constant_tensor2:\\t\", constant_tensor2)"
   ]
  },
  {
   "cell_type": "code",
   "execution_count": 7,
   "id": "edc31fa1",
   "metadata": {},
   "outputs": [
    {
     "data": {
      "text/plain": [
       "<tf.Tensor: shape=(1, 6), dtype=int32, numpy=array([[1, 2, 3, 4, 5, 6]])>"
      ]
     },
     "execution_count": 7,
     "metadata": {},
     "output_type": "execute_result"
    }
   ],
   "source": [
    "constant_tensor2[:1]"
   ]
  },
  {
   "cell_type": "code",
   "execution_count": 8,
   "id": "34722ed1",
   "metadata": {},
   "outputs": [
    {
     "data": {
      "text/plain": [
       "<tf.Tensor: shape=(1, 2), dtype=int32, numpy=array([[1, 2]])>"
      ]
     },
     "execution_count": 8,
     "metadata": {},
     "output_type": "execute_result"
    }
   ],
   "source": [
    "constant_tensor2[:1,:-4]"
   ]
  },
  {
   "cell_type": "code",
   "execution_count": 9,
   "id": "7ed533f2",
   "metadata": {},
   "outputs": [
    {
     "data": {
      "text/plain": [
       "<tf.Tensor: shape=(2,), dtype=int32, numpy=array([1, 7])>"
      ]
     },
     "execution_count": 9,
     "metadata": {},
     "output_type": "execute_result"
    }
   ],
   "source": [
    "constant_tensor2[...,0]"
   ]
  },
  {
   "cell_type": "code",
   "execution_count": 10,
   "id": "83e5426c",
   "metadata": {},
   "outputs": [
    {
     "name": "stdout",
     "output_type": "stream",
     "text": [
      "constant_tensor3:\t tf.Tensor(\n",
      "[[[ 1  2  3  4  5  6]\n",
      "  [ 7  8  9 10 11 12]\n",
      "  [13 14 15 16 17 18]]], shape=(1, 3, 6), dtype=int32)\n"
     ]
    }
   ],
   "source": [
    "constant_tensor3 = tf.constant([[[1, 2, 3, 4, 5, 6],[7,8,9,10,11,12], [13,14,15,16,17,18]]])\n",
    "print(\"constant_tensor3:\\t\", constant_tensor3)"
   ]
  },
  {
   "cell_type": "code",
   "execution_count": 11,
   "id": "f84b9bd1",
   "metadata": {},
   "outputs": [
    {
     "data": {
      "text/plain": [
       "<tf.Tensor: shape=(1, 2), dtype=int32, numpy=array([[1, 7]])>"
      ]
     },
     "execution_count": 11,
     "metadata": {},
     "output_type": "execute_result"
    }
   ],
   "source": [
    "constant_tensor3[...,:2,0]"
   ]
  },
  {
   "cell_type": "code",
   "execution_count": 12,
   "id": "3276c9a1",
   "metadata": {},
   "outputs": [
    {
     "data": {
      "text/plain": [
       "<tf.Tensor: shape=(1, 3), dtype=int32, numpy=array([[ 1,  7, 13]])>"
      ]
     },
     "execution_count": 12,
     "metadata": {},
     "output_type": "execute_result"
    }
   ],
   "source": [
    "constant_tensor3[...,0]"
   ]
  },
  {
   "cell_type": "markdown",
   "id": "64024bd5",
   "metadata": {},
   "source": [
    "# Math Operations"
   ]
  },
  {
   "cell_type": "markdown",
   "id": "13bc91f2",
   "metadata": {},
   "source": [
    "## abs"
   ]
  },
  {
   "cell_type": "code",
   "execution_count": 13,
   "id": "e032386a",
   "metadata": {},
   "outputs": [
    {
     "name": "stdout",
     "output_type": "stream",
     "text": [
      "abss:\t tf.Tensor([ 1 12 53  4  5  6], shape=(6,), dtype=int32)\n"
     ]
    }
   ],
   "source": [
    "abss = tf.abs(tf.constant([1, -12, -53, 4, 5, 6]))\n",
    "print(\"abss:\\t\", abss)"
   ]
  },
  {
   "cell_type": "code",
   "execution_count": 14,
   "id": "579ed1ba",
   "metadata": {},
   "outputs": [
    {
     "name": "stdout",
     "output_type": "stream",
     "text": [
      "complexe:\t tf.Tensor(\n",
      "[[-2.25+4.75j]\n",
      " [-3.25+5.75j]], shape=(2, 1), dtype=complex128)\n"
     ]
    }
   ],
   "source": [
    "complexe = tf.constant([[-2.25 + 4.75j], [-3.25 + 5.75j]])\n",
    "print(\"complexe:\\t\", complexe)"
   ]
  },
  {
   "cell_type": "code",
   "execution_count": 15,
   "id": "f334ca9c",
   "metadata": {},
   "outputs": [
    {
     "name": "stdout",
     "output_type": "stream",
     "text": [
      "complexe abs:\t tf.Tensor(\n",
      "[[5.25594901]\n",
      " [6.60492241]], shape=(2, 1), dtype=float64)\n"
     ]
    }
   ],
   "source": [
    "print(\"complexe abs:\\t\", tf.abs(complexe))"
   ]
  },
  {
   "cell_type": "markdown",
   "id": "cf8a93a2",
   "metadata": {},
   "source": [
    "## With math"
   ]
  },
  {
   "cell_type": "code",
   "execution_count": 16,
   "id": "01138e78",
   "metadata": {},
   "outputs": [
    {
     "name": "stdout",
     "output_type": "stream",
     "text": [
      "abss:\t tf.Tensor([ 1 12 53  4  5  6], shape=(6,), dtype=int32)\n"
     ]
    }
   ],
   "source": [
    "abss = tf.math.abs(tf.constant([1, -12, -53, 4, 5, 6]))\n",
    "print(\"abss:\\t\", abss)"
   ]
  },
  {
   "cell_type": "markdown",
   "id": "2b9d3635",
   "metadata": {},
   "source": [
    "## acos"
   ]
  },
  {
   "cell_type": "code",
   "execution_count": 17,
   "id": "f8658c9c",
   "metadata": {
    "scrolled": true
   },
   "outputs": [
    {
     "name": "stdout",
     "output_type": "stream",
     "text": [
      "acos_tensor:\t tf.Tensor([0.        2.0943952       nan 1.3694383 1.5707964       nan], shape=(6,), dtype=float32)\n"
     ]
    }
   ],
   "source": [
    "x = tf.constant([1.0, -0.5, 3.4, 0.2, 0.0, -2], dtype = tf.float32)\n",
    "acos_tensor = tf.math.acos(x)\n",
    "print(\"acos_tensor:\\t\", acos_tensor)"
   ]
  },
  {
   "cell_type": "markdown",
   "id": "c70f11c5",
   "metadata": {},
   "source": [
    "## divide"
   ]
  },
  {
   "cell_type": "code",
   "execution_count": 18,
   "id": "d5235224",
   "metadata": {},
   "outputs": [
    {
     "name": "stdout",
     "output_type": "stream",
     "text": [
      "Divide:\t tf.Tensor([4.  2.  5.5], shape=(3,), dtype=float64)\n"
     ]
    }
   ],
   "source": [
    "x = tf.constant([16, 12, 11])\n",
    "y = tf.constant([4, 6, 2])\n",
    "print('Divide:\\t', tf.divide(x,y))"
   ]
  },
  {
   "cell_type": "code",
   "execution_count": 19,
   "id": "e76e4437",
   "metadata": {},
   "outputs": [
    {
     "name": "stdout",
     "output_type": "stream",
     "text": [
      "Divide:\t tf.Tensor([4.  inf 5.5], shape=(3,), dtype=float64)\n"
     ]
    }
   ],
   "source": [
    "x = tf.constant([16, 12, 11])\n",
    "y = tf.constant([4, 0, 2])\n",
    "print('Divide:\\t', tf.divide(x,y))"
   ]
  },
  {
   "cell_type": "markdown",
   "id": "7b8f46ab",
   "metadata": {},
   "source": [
    "## divide_no_nan"
   ]
  },
  {
   "cell_type": "code",
   "execution_count": 20,
   "id": "c28456fb",
   "metadata": {},
   "outputs": [
    {
     "name": "stdout",
     "output_type": "stream",
     "text": [
      "divide_no_nan:\t tf.Tensor([4.  0.  5.5], shape=(3,), dtype=float64)\n"
     ]
    }
   ],
   "source": [
    "print('divide_no_nan:\\t', tf.math.divide_no_nan(x,y))"
   ]
  },
  {
   "cell_type": "code",
   "execution_count": 21,
   "id": "4b45e50a",
   "metadata": {},
   "outputs": [
    {
     "name": "stdout",
     "output_type": "stream",
     "text": [
      "divide_no_nan:\t tf.Tensor([4.  0.  5.5], shape=(3,), dtype=float64)\n"
     ]
    }
   ],
   "source": [
    "x = tf.constant([16, 12, 11], dtype = tf.int32)\n",
    "y = tf.constant([4, 0, 2], dtype = tf.int32)\n",
    "print('divide_no_nan:\\t', tf.math.divide_no_nan(x,y))"
   ]
  },
  {
   "cell_type": "markdown",
   "id": "dfd3a065",
   "metadata": {},
   "source": [
    "## add"
   ]
  },
  {
   "cell_type": "code",
   "execution_count": 22,
   "id": "8dd15b71",
   "metadata": {},
   "outputs": [
    {
     "name": "stdout",
     "output_type": "stream",
     "text": [
      "add:\t tf.Tensor([2 3 4 5 6], shape=(5,), dtype=int32)\n"
     ]
    }
   ],
   "source": [
    "x = [1, 2, 3, 4, 5]\n",
    "y = 1\n",
    "print(\"add:\\t\", tf.add(x, y))"
   ]
  },
  {
   "cell_type": "code",
   "execution_count": 23,
   "id": "1a867e5b",
   "metadata": {},
   "outputs": [
    {
     "name": "stdout",
     "output_type": "stream",
     "text": [
      "add:\t tf.Tensor([ 2  4  6  8 10], shape=(5,), dtype=int32)\n"
     ]
    }
   ],
   "source": [
    "x = [1, 2, 3, 4, 5]\n",
    "y = tf.constant([1, 2, 3, 4, 5])\n",
    "print(\"add:\\t\", tf.add(x, y))"
   ]
  },
  {
   "cell_type": "code",
   "execution_count": 24,
   "id": "ca6e3c33",
   "metadata": {},
   "outputs": [
    {
     "name": "stdout",
     "output_type": "stream",
     "text": [
      "add:\t tf.Tensor([-126 -124], shape=(2,), dtype=int8)\n"
     ]
    }
   ],
   "source": [
    "x = tf.constant([1, 2], dtype=tf.int8)\n",
    "y = [2**7 + 1, 2**7 + 2]\n",
    "print(\"add:\\t\", tf.add(x, y))"
   ]
  },
  {
   "cell_type": "code",
   "execution_count": 25,
   "id": "616b60f0",
   "metadata": {},
   "outputs": [
    {
     "name": "stdout",
     "output_type": "stream",
     "text": [
      "add:\t [2, 2, 3, 3]\n"
     ]
    }
   ],
   "source": [
    "x = np.ones(6).reshape(1, 2, 1, 3)\n",
    "y = np.ones(6).reshape(2, 1, 3, 1)\n",
    "print(\"add:\\t\", tf.add(x, y).shape.as_list())"
   ]
  },
  {
   "cell_type": "code",
   "execution_count": 26,
   "id": "f06a3ac0",
   "metadata": {},
   "outputs": [
    {
     "data": {
      "text/plain": [
       "array([[[[1., 1., 1.]],\n",
       "\n",
       "        [[1., 1., 1.]]]])"
      ]
     },
     "execution_count": 26,
     "metadata": {},
     "output_type": "execute_result"
    }
   ],
   "source": [
    "x"
   ]
  },
  {
   "cell_type": "code",
   "execution_count": 27,
   "id": "f0091552",
   "metadata": {},
   "outputs": [
    {
     "data": {
      "text/plain": [
       "array([[[[1.],\n",
       "         [1.],\n",
       "         [1.]]],\n",
       "\n",
       "\n",
       "       [[[1.],\n",
       "         [1.],\n",
       "         [1.]]]])"
      ]
     },
     "execution_count": 27,
     "metadata": {},
     "output_type": "execute_result"
    }
   ],
   "source": [
    "y"
   ]
  },
  {
   "cell_type": "code",
   "execution_count": 28,
   "id": "761a031b",
   "metadata": {},
   "outputs": [
    {
     "name": "stdout",
     "output_type": "stream",
     "text": [
      "add:\t tf.Tensor([ 2  4 13], shape=(3,), dtype=int8)\n"
     ]
    }
   ],
   "source": [
    "x = tf.constant([1,2,9], dtype=tf.int8)\n",
    "y = tf.constant([1, 2,4], dtype=tf.int8)\n",
    "print(\"add:\\t\", tf.add(x, y))"
   ]
  },
  {
   "cell_type": "code",
   "execution_count": 29,
   "id": "13d64ad8",
   "metadata": {},
   "outputs": [
    {
     "name": "stdout",
     "output_type": "stream",
     "text": [
      "add:\t tf.Tensor(\n",
      "[[ 3  4 11]\n",
      " [ 5  6 13]\n",
      " [ 9 10 17]], shape=(3, 3), dtype=int8)\n"
     ]
    }
   ],
   "source": [
    "x = tf.constant([1,2,9], dtype=tf.int8)\n",
    "y = tf.constant([[2], [4], [8]], dtype=tf.int8)\n",
    "print(\"add:\\t\", tf.add(x, y))"
   ]
  },
  {
   "cell_type": "markdown",
   "id": "5c426601",
   "metadata": {},
   "source": [
    "## add_in\n",
    "## This op does not broadcast its inputs."
   ]
  },
  {
   "cell_type": "code",
   "execution_count": 30,
   "id": "50d82181",
   "metadata": {},
   "outputs": [
    {
     "name": "stdout",
     "output_type": "stream",
     "text": [
      "add_n:\t tf.Tensor(\n",
      "[[ 4 11]\n",
      " [ 6 17]], shape=(2, 2), dtype=int32)\n"
     ]
    }
   ],
   "source": [
    "a = tf.constant([[3, 5], [4, 8]])\n",
    "b = tf.constant([[1, 6], [2, 9]])\n",
    "print(\"add_n:\\t\", tf.math.add_n([a,b]))"
   ]
  },
  {
   "cell_type": "code",
   "execution_count": 31,
   "id": "ffc9218b",
   "metadata": {
    "scrolled": true
   },
   "outputs": [
    {
     "name": "stdout",
     "output_type": "stream",
     "text": [
      "add_n:\t tf.Tensor([ 7 13], shape=(2,), dtype=int32)\n"
     ]
    }
   ],
   "source": [
    "a = tf.constant([[3, 5], [4, 8]])\n",
    "b = tf.constant([[1, 6], [2, 9]])\n",
    "print(\"add_n:\\t\", tf.math.add_n(a,b))"
   ]
  },
  {
   "cell_type": "markdown",
   "id": "e003416a",
   "metadata": {},
   "source": [
    "## argmax"
   ]
  },
  {
   "cell_type": "code",
   "execution_count": 32,
   "id": "3b23303a",
   "metadata": {},
   "outputs": [
    {
     "name": "stdout",
     "output_type": "stream",
     "text": [
      "argmax:\t tf.Tensor(2, shape=(), dtype=int64)\n"
     ]
    }
   ],
   "source": [
    "A = tf.constant([2, 20, 30, 3, 6])\n",
    "print(\"argmax:\\t\", tf.math.argmax(A)) "
   ]
  },
  {
   "cell_type": "code",
   "execution_count": 33,
   "id": "6af3ac25",
   "metadata": {},
   "outputs": [
    {
     "name": "stdout",
     "output_type": "stream",
     "text": [
      "argmax:\t tf.Tensor([1 0 1 1 0], shape=(5,), dtype=int64)\n"
     ]
    }
   ],
   "source": [
    "A = tf.constant([[2, 20, 30, 3, 6], [4, 3, 50, 60, 1]])\n",
    "print(\"argmax:\\t\", tf.math.argmax(A)) "
   ]
  },
  {
   "cell_type": "code",
   "execution_count": 34,
   "id": "e20796c0",
   "metadata": {},
   "outputs": [
    {
     "name": "stdout",
     "output_type": "stream",
     "text": [
      "argmax:\t tf.Tensor([1 0 1 1 0], shape=(5,), dtype=int64)\n"
     ]
    }
   ],
   "source": [
    "A = tf.constant([[2, 20, 30, 3, 6], [4, 3, 50, 60, 1]])\n",
    "print(\"argmax:\\t\", tf.math.argmax(A, axis = 0)) "
   ]
  },
  {
   "cell_type": "code",
   "execution_count": 35,
   "id": "75d7288e",
   "metadata": {},
   "outputs": [
    {
     "name": "stdout",
     "output_type": "stream",
     "text": [
      "argmax:\t tf.Tensor([2 3], shape=(2,), dtype=int64)\n"
     ]
    }
   ],
   "source": [
    "A = tf.constant([[2, 20, 30, 3, 6], [4, 3, 50, 60, 1]])\n",
    "print(\"argmax:\\t\", tf.math.argmax(A, axis = 1)) "
   ]
  },
  {
   "cell_type": "markdown",
   "id": "e38914df",
   "metadata": {},
   "source": [
    "## ceil"
   ]
  },
  {
   "cell_type": "code",
   "execution_count": 36,
   "id": "6676d8c4",
   "metadata": {},
   "outputs": [
    {
     "name": "stdout",
     "output_type": "stream",
     "text": [
      "ceil:\t tf.Tensor([-1. -1.  0.  1.  2.  2.  2.], shape=(7,), dtype=float32)\n"
     ]
    }
   ],
   "source": [
    "x = tf.constant([-1.7, -1.5, -0.2, 0.2, 1.5, 1.7, 2.0])\n",
    "print(\"ceil:\\t\", tf.math.ceil(x))"
   ]
  },
  {
   "cell_type": "markdown",
   "id": "b92cd2b1",
   "metadata": {},
   "source": [
    "## floor"
   ]
  },
  {
   "cell_type": "code",
   "execution_count": 37,
   "id": "a5fb0d1f",
   "metadata": {},
   "outputs": [
    {
     "name": "stdout",
     "output_type": "stream",
     "text": [
      "floor:\t [ 1. -2.  5. -3.  0. inf]\n"
     ]
    }
   ],
   "source": [
    "x = tf.constant([1.3324, -1.5, 5.555, -2.532, 0.99, float(\"inf\")])\n",
    "print(\"floor:\\t\", tf.floor(x).numpy())"
   ]
  },
  {
   "cell_type": "markdown",
   "id": "593ef50f",
   "metadata": {},
   "source": [
    "## floordiv"
   ]
  },
  {
   "cell_type": "code",
   "execution_count": 38,
   "id": "43340373",
   "metadata": {},
   "outputs": [
    {
     "name": "stdout",
     "output_type": "stream",
     "text": [
      "floordiv:\t tf.Tensor([  0 -20   0], shape=(3,), dtype=int32)\n"
     ]
    }
   ],
   "source": [
    "x = tf.constant([10,20,30])\n",
    "y = tf.constant([40,-1,60])\n",
    "print(\"floordiv:\\t\", tf.math.floordiv(x, y))"
   ]
  },
  {
   "cell_type": "markdown",
   "id": "e8d42561",
   "metadata": {},
   "source": [
    "## multiply"
   ]
  },
  {
   "cell_type": "code",
   "execution_count": 39,
   "id": "ca37664c",
   "metadata": {},
   "outputs": [
    {
     "name": "stdout",
     "output_type": "stream",
     "text": [
      "add:\t tf.Tensor(\n",
      "[[ 2  4 18]\n",
      " [ 4  8 36]\n",
      " [ 8 16 72]], shape=(3, 3), dtype=int8)\n"
     ]
    }
   ],
   "source": [
    "x = tf.constant([1,2,9], dtype=tf.int8)\n",
    "y = tf.constant([[2], [4], [8]], dtype=tf.int8)\n",
    "print(\"add:\\t\", tf.multiply(x, y))"
   ]
  },
  {
   "cell_type": "markdown",
   "id": "c375a627",
   "metadata": {},
   "source": [
    "## confusion_matrix"
   ]
  },
  {
   "cell_type": "code",
   "execution_count": 40,
   "id": "bb3c7a6a",
   "metadata": {},
   "outputs": [
    {
     "data": {
      "text/plain": [
       "<tf.Tensor: shape=(5, 5), dtype=int32, numpy=\n",
       "array([[0, 0, 0, 0, 0],\n",
       "       [0, 0, 1, 0, 0],\n",
       "       [0, 0, 1, 0, 0],\n",
       "       [0, 0, 0, 0, 0],\n",
       "       [0, 0, 0, 0, 1]])>"
      ]
     },
     "execution_count": 40,
     "metadata": {},
     "output_type": "execute_result"
    }
   ],
   "source": [
    "tf.math.confusion_matrix([1, 2, 4], [2, 2, 4]) "
   ]
  },
  {
   "cell_type": "markdown",
   "id": "3daa43dc",
   "metadata": {},
   "source": [
    "## count non zeros"
   ]
  },
  {
   "cell_type": "code",
   "execution_count": 41,
   "id": "b8224807",
   "metadata": {},
   "outputs": [
    {
     "name": "stdout",
     "output_type": "stream",
     "text": [
      "tf.Tensor(3, shape=(), dtype=int64)\n",
      "tf.Tensor([1 2 0], shape=(3,), dtype=int64)\n",
      "tf.Tensor([1 2], shape=(2,), dtype=int64)\n",
      "tf.Tensor(\n",
      "[[1]\n",
      " [2]], shape=(2, 1), dtype=int64)\n",
      "tf.Tensor(3, shape=(), dtype=int64)\n"
     ]
    }
   ],
   "source": [
    "x = tf.constant([[0, 1, 0], [1, 1, 0]])\n",
    "print(tf.math.count_nonzero(x))\n",
    "print(tf.math.count_nonzero(x, 0))\n",
    "print(tf.math.count_nonzero(x, 1))\n",
    "print(tf.math.count_nonzero(x, 1, keepdims=True))\n",
    "print(tf.math.count_nonzero(x, [0, 1]))"
   ]
  },
  {
   "cell_type": "markdown",
   "id": "30c268ad",
   "metadata": {},
   "source": [
    "## equal"
   ]
  },
  {
   "cell_type": "code",
   "execution_count": 42,
   "id": "d242cc63",
   "metadata": {},
   "outputs": [
    {
     "name": "stdout",
     "output_type": "stream",
     "text": [
      "equal: \t tf.Tensor([ True False], shape=(2,), dtype=bool)\n"
     ]
    }
   ],
   "source": [
    "x = tf.constant([2, 4])\n",
    "y = tf.constant(2)\n",
    "print(\"equal: \\t\", tf.math.equal(x, y))"
   ]
  },
  {
   "cell_type": "code",
   "execution_count": 43,
   "id": "b0ade940",
   "metadata": {},
   "outputs": [
    {
     "name": "stdout",
     "output_type": "stream",
     "text": [
      "equal: \t tf.Tensor(\n",
      "[[ True False]\n",
      " [False  True]], shape=(2, 2), dtype=bool)\n"
     ]
    }
   ],
   "source": [
    "x = tf.constant([[2, 4], [8, 2]])\n",
    "y = tf.constant(2)\n",
    "print(\"equal: \\t\", tf.math.equal(x, y))"
   ]
  },
  {
   "cell_type": "code",
   "execution_count": 44,
   "id": "c5d2acb7",
   "metadata": {},
   "outputs": [
    {
     "name": "stdout",
     "output_type": "stream",
     "text": [
      "equal: \t tf.Tensor(\n",
      "[[ True False]\n",
      " [False False]], shape=(2, 2), dtype=bool)\n"
     ]
    }
   ],
   "source": [
    "x = tf.constant([[2, 4], [8, 2]])\n",
    "y = tf.constant([2, 3])\n",
    "print(\"equal: \\t\", tf.math.equal(x, y))"
   ]
  },
  {
   "cell_type": "markdown",
   "id": "bef5c1d5",
   "metadata": {},
   "source": [
    "## exp"
   ]
  },
  {
   "cell_type": "code",
   "execution_count": 45,
   "id": "214b2107",
   "metadata": {},
   "outputs": [
    {
     "name": "stdout",
     "output_type": "stream",
     "text": [
      "exp:\t tf.Tensor(7.389056, shape=(), dtype=float32)\n"
     ]
    }
   ],
   "source": [
    "x = tf.constant(2.0)\n",
    "print(\"exp:\\t\", tf.math.exp(x))"
   ]
  },
  {
   "cell_type": "code",
   "execution_count": 46,
   "id": "3f8e0a02",
   "metadata": {},
   "outputs": [
    {
     "name": "stdout",
     "output_type": "stream",
     "text": [
      "exp:\t tf.Tensor([1.4841316e+02 8.1030840e+03 3.6787945e-01], shape=(3,), dtype=float32)\n"
     ]
    }
   ],
   "source": [
    "x = tf.constant([5,9,-1], dtype = tf.float32)\n",
    "print(\"exp:\\t\", tf.math.exp(x))"
   ]
  },
  {
   "cell_type": "markdown",
   "id": "92ad7321",
   "metadata": {},
   "source": [
    "## greater"
   ]
  },
  {
   "cell_type": "code",
   "execution_count": 47,
   "id": "a99aa31f",
   "metadata": {},
   "outputs": [
    {
     "name": "stdout",
     "output_type": "stream",
     "text": [
      "greater:\t tf.Tensor([False  True  True], shape=(3,), dtype=bool)\n"
     ]
    }
   ],
   "source": [
    "x = tf.constant([5, 4, 6])\n",
    "y = tf.constant([5, 2, 5])\n",
    "print(\"greater:\\t\", tf.math.greater(x, y))"
   ]
  },
  {
   "cell_type": "markdown",
   "id": "f485dd0a",
   "metadata": {},
   "source": [
    "## greater_equal"
   ]
  },
  {
   "cell_type": "code",
   "execution_count": 48,
   "id": "b0a1d969",
   "metadata": {},
   "outputs": [
    {
     "name": "stdout",
     "output_type": "stream",
     "text": [
      "greater:\t tf.Tensor([ True  True  True False], shape=(4,), dtype=bool)\n"
     ]
    }
   ],
   "source": [
    "x = tf.constant([5, 4, 6, 7])\n",
    "y = tf.constant([5, 2, 5, 10])\n",
    "print(\"greater:\\t\", tf.math.greater_equal(x, y))"
   ]
  },
  {
   "cell_type": "markdown",
   "id": "9d5b3af9",
   "metadata": {},
   "source": [
    "## maximum"
   ]
  },
  {
   "cell_type": "code",
   "execution_count": 49,
   "id": "d27785fc",
   "metadata": {},
   "outputs": [
    {
     "name": "stdout",
     "output_type": "stream",
     "text": [
      "maximun:\t tf.Tensor([0. 0. 2. 5.], shape=(4,), dtype=float32)\n"
     ]
    }
   ],
   "source": [
    "x = tf.constant([0., 0., 0., 0.])\n",
    "y = tf.constant([-2., 0., 2., 5.])\n",
    "print(\"maximun:\\t\", tf.math.maximum(x, y))"
   ]
  },
  {
   "cell_type": "code",
   "execution_count": 50,
   "id": "9160805a",
   "metadata": {},
   "outputs": [
    {
     "name": "stdout",
     "output_type": "stream",
     "text": [
      "maximun:\t tf.Tensor([-2.  0.  2.  5.], shape=(4,), dtype=float32)\n"
     ]
    }
   ],
   "source": [
    "x = tf.constant([-6.])\n",
    "y = tf.constant([-2., 0., 2., 5.])\n",
    "print(\"maximun:\\t\", tf.math.maximum(x, y))"
   ]
  },
  {
   "cell_type": "markdown",
   "id": "378c8f93",
   "metadata": {},
   "source": [
    "## negative"
   ]
  },
  {
   "cell_type": "code",
   "execution_count": 51,
   "id": "aaa8fdc7",
   "metadata": {},
   "outputs": [
    {
     "data": {
      "text/plain": [
       "<tf.Tensor: shape=(), dtype=float32, numpy=6.0>"
      ]
     },
     "execution_count": 51,
     "metadata": {},
     "output_type": "execute_result"
    }
   ],
   "source": [
    "tf.math.negative(-6.)"
   ]
  },
  {
   "cell_type": "code",
   "execution_count": 52,
   "id": "9099db7c",
   "metadata": {},
   "outputs": [
    {
     "data": {
      "text/plain": [
       "<tf.Tensor: shape=(), dtype=float32, numpy=-6.0>"
      ]
     },
     "execution_count": 52,
     "metadata": {},
     "output_type": "execute_result"
    }
   ],
   "source": [
    "tf.math.negative(6.)"
   ]
  },
  {
   "cell_type": "markdown",
   "id": "59dff1fc",
   "metadata": {},
   "source": [
    "## reduce_max"
   ]
  },
  {
   "cell_type": "code",
   "execution_count": 53,
   "id": "5866e45d",
   "metadata": {},
   "outputs": [
    {
     "name": "stdout",
     "output_type": "stream",
     "text": [
      "reduce_max:\t tf.Tensor(5, shape=(), dtype=int32)\n"
     ]
    }
   ],
   "source": [
    "x = tf.constant([5, 1, 2, 4])\n",
    "print(\"reduce_max:\\t\", tf.reduce_max(x))"
   ]
  },
  {
   "cell_type": "markdown",
   "id": "e95da2d3",
   "metadata": {},
   "source": [
    "## reduce_min"
   ]
  },
  {
   "cell_type": "code",
   "execution_count": 54,
   "id": "e8305587",
   "metadata": {},
   "outputs": [
    {
     "name": "stdout",
     "output_type": "stream",
     "text": [
      "reduce_min:\t tf.Tensor(1, shape=(), dtype=int32)\n"
     ]
    }
   ],
   "source": [
    "x = tf.constant([5, 1, 2, 4])\n",
    "print(\"reduce_min:\\t\", tf.reduce_min(x))"
   ]
  },
  {
   "cell_type": "markdown",
   "id": "f7e4b9f6",
   "metadata": {},
   "source": [
    "## Sigmoid"
   ]
  },
  {
   "cell_type": "code",
   "execution_count": 55,
   "id": "27453bb3",
   "metadata": {},
   "outputs": [
    {
     "name": "stdout",
     "output_type": "stream",
     "text": [
      "sigmpid:\t tf.Tensor([0.5       0.7310586 1.        1.       ], shape=(4,), dtype=float32)\n"
     ]
    }
   ],
   "source": [
    "x = tf.constant([0.0, 1.0, 50.0, 100.0])\n",
    "print(\"sigmpid:\\t\", tf.math.sigmoid(x))"
   ]
  },
  {
   "cell_type": "markdown",
   "id": "40fe51f8",
   "metadata": {},
   "source": [
    "## Top_K"
   ]
  },
  {
   "cell_type": "code",
   "execution_count": 56,
   "id": "555e8c82",
   "metadata": {},
   "outputs": [
    {
     "name": "stdout",
     "output_type": "stream",
     "text": [
      "top_three:\t TopKV2(values=<tf.Tensor: shape=(3,), dtype=int32, numpy=array([1, 1, 1])>, indices=<tf.Tensor: shape=(3,), dtype=int32, numpy=array([0, 1, 3])>)\n"
     ]
    }
   ],
   "source": [
    "top_three = tf.math.top_k([1, 1, 0, 1, 0, 1, 0, 0, 1, 0, 0, 0, 1, 0],\n",
    "                       k=3)\n",
    "print(\"top_three:\\t\", top_three)"
   ]
  },
  {
   "cell_type": "code",
   "execution_count": 57,
   "id": "f0657a12",
   "metadata": {},
   "outputs": [
    {
     "name": "stdout",
     "output_type": "stream",
     "text": [
      "top_three:\t TopKV2(values=<tf.Tensor: shape=(3, 3), dtype=int32, numpy=\n",
      "array([[30,  3,  2],\n",
      "       [15, 13, 12],\n",
      "       [60, 48, 15]])>, indices=<tf.Tensor: shape=(3, 3), dtype=int32, numpy=\n",
      "array([[3, 2, 1],\n",
      "       [2, 1, 0],\n",
      "       [0, 2, 1]])>)\n"
     ]
    }
   ],
   "source": [
    "top_three = tf.math.top_k([[1,2,3,30],[12,13,15,2],[60,15,48,12]],\n",
    "                       k=3)\n",
    "print(\"top_three:\\t\", top_three)"
   ]
  },
  {
   "cell_type": "code",
   "execution_count": 58,
   "id": "0a827b10",
   "metadata": {},
   "outputs": [
    {
     "name": "stdout",
     "output_type": "stream",
     "text": [
      "top_three:\t TopKV2(values=<tf.Tensor: shape=(3, 3), dtype=int32, numpy=\n",
      "array([[ 2, 30,  3],\n",
      "       [12, 13, 15],\n",
      "       [15, 60, 48]])>, indices=<tf.Tensor: shape=(3, 3), dtype=int32, numpy=\n",
      "array([[1, 3, 2],\n",
      "       [0, 1, 2],\n",
      "       [1, 0, 2]])>)\n"
     ]
    }
   ],
   "source": [
    "top_three = tf.math.top_k([[1,2,3,30],[12,13,15,2],[60,15,48,12]],\n",
    "                       k=3, sorted = False)\n",
    "print(\"top_three:\\t\", top_three)"
   ]
  },
  {
   "cell_type": "code",
   "execution_count": 59,
   "id": "63573dea",
   "metadata": {},
   "outputs": [
    {
     "name": "stdout",
     "output_type": "stream",
     "text": [
      "top_one:\t TopKV2(values=<tf.Tensor: shape=(2, 1), dtype=int32, numpy=\n",
      "array([[10],\n",
      "       [ 6]])>, indices=<tf.Tensor: shape=(2, 1), dtype=int32, numpy=\n",
      "array([[0],\n",
      "       [1]])>)\n"
     ]
    }
   ],
   "source": [
    "top_one = tf.math.top_k([[10,-3,9],[-8,6,2]],\n",
    "                       k=1)\n",
    "print(\"top_one:\\t\", top_one)"
   ]
  },
  {
   "cell_type": "code",
   "execution_count": 60,
   "id": "a02599bb",
   "metadata": {},
   "outputs": [
    {
     "data": {
      "text/plain": [
       "10"
      ]
     },
     "execution_count": 60,
     "metadata": {},
     "output_type": "execute_result"
    }
   ],
   "source": [
    "int(tf.Variable(top_one.values.numpy)[0])"
   ]
  },
  {
   "cell_type": "code",
   "execution_count": null,
   "id": "52c6dda3",
   "metadata": {},
   "outputs": [],
   "source": []
  }
 ],
 "metadata": {
  "kernelspec": {
   "display_name": "Python 3 (ipykernel)",
   "language": "python",
   "name": "python3"
  },
  "language_info": {
   "codemirror_mode": {
    "name": "ipython",
    "version": 3
   },
   "file_extension": ".py",
   "mimetype": "text/x-python",
   "name": "python",
   "nbconvert_exporter": "python",
   "pygments_lexer": "ipython3",
   "version": "3.9.17"
  }
 },
 "nbformat": 4,
 "nbformat_minor": 5
}
