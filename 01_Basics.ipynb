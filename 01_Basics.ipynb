{
 "cells": [
  {
   "cell_type": "markdown",
   "metadata": {},
   "source": [
    "# Basics"
   ]
  },
  {
   "cell_type": "code",
   "execution_count": 1,
   "metadata": {
    "id": "ZqMYVJEoHtPP"
   },
   "outputs": [],
   "source": [
    "import tensorflow as tf"
   ]
  },
  {
   "cell_type": "markdown",
   "metadata": {},
   "source": [
    "### 0-D tensor"
   ]
  },
  {
   "cell_type": "code",
   "execution_count": 2,
   "metadata": {
    "colab": {
     "base_uri": "https://localhost:8080/"
    },
    "id": "rznlspPmH8fl",
    "outputId": "13f6ec53-fda8-41f1-f0b7-f322ebd81186"
   },
   "outputs": [
    {
     "name": "stdout",
     "output_type": "stream",
     "text": [
      "tf.Tensor(4, shape=(), dtype=int32)\n"
     ]
    }
   ],
   "source": [
    "tensor_zero_d = tf.constant(4)\n",
    "print(tensor_zero_d)"
   ]
  },
  {
   "cell_type": "markdown",
   "metadata": {},
   "source": [
    "### 1-D tensor"
   ]
  },
  {
   "cell_type": "code",
   "execution_count": 3,
   "metadata": {
    "colab": {
     "base_uri": "https://localhost:8080/"
    },
    "id": "oAAlIV9dIQQd",
    "outputId": "067ad882-87ff-4c33-d3dd-1bc6d7317bec"
   },
   "outputs": [
    {
     "name": "stdout",
     "output_type": "stream",
     "text": [
      "tf.Tensor([ 5  6 -2], shape=(3,), dtype=int32)\n"
     ]
    }
   ],
   "source": [
    "tensor_one_d = tf.constant([5, 6, -2])\n",
    "print(tensor_one_d)"
   ]
  },
  {
   "cell_type": "code",
   "execution_count": 4,
   "metadata": {
    "colab": {
     "base_uri": "https://localhost:8080/"
    },
    "id": "HgEuVCDNIzvO",
    "outputId": "4712f431-1ff5-4735-b412-7984c4093f18"
   },
   "outputs": [
    {
     "name": "stdout",
     "output_type": "stream",
     "text": [
      "tensor_one_d:\t tf.Tensor([ 5.  6. -2.], shape=(3,), dtype=float32)\n",
      "tensor_one_d.shape:\t (3,)\n",
      "tensor_one_d.ndim:\t 1\n"
     ]
    }
   ],
   "source": [
    "tensor_one_d = tf.constant([5, 6, -2.])\n",
    "print('tensor_one_d:\\t', tensor_one_d)\n",
    "print('tensor_one_d.shape:\\t', tensor_one_d.shape)\n",
    "print('tensor_one_d.ndim:\\t',tensor_one_d.ndim)"
   ]
  },
  {
   "cell_type": "markdown",
   "metadata": {
    "id": "DeSFZU3iLknr"
   },
   "source": [
    "### 2-D tensor"
   ]
  },
  {
   "cell_type": "code",
   "execution_count": 5,
   "metadata": {
    "colab": {
     "base_uri": "https://localhost:8080/"
    },
    "id": "ZtHyIrY0I75v",
    "outputId": "b7734125-1fa7-42c2-effd-7a7e891ea944"
   },
   "outputs": [
    {
     "name": "stdout",
     "output_type": "stream",
     "text": [
      "tensor_two_d:\t tf.Tensor(\n",
      "[[ 5.  6. -8.]\n",
      " [ 1.  3. -2.]], shape=(2, 3), dtype=float32)\n",
      "tensor_two_d.shape:\t (2, 3)\n",
      "tensor_two_d.ndim:\t 2\n"
     ]
    }
   ],
   "source": [
    "tensor_two_d = tf.constant([\n",
    "    [5, 6, -8.],\n",
    "    [1, 3, -2.]\n",
    "], tf.float32)\n",
    "print('tensor_two_d:\\t', tensor_two_d)\n",
    "print('tensor_two_d.shape:\\t', tensor_two_d.shape)\n",
    "print('tensor_two_d.ndim:\\t',tensor_two_d.ndim)"
   ]
  },
  {
   "cell_type": "code",
   "execution_count": 6,
   "metadata": {
    "colab": {
     "base_uri": "https://localhost:8080/"
    },
    "id": "FAZwvCxaL2HC",
    "outputId": "b31f64d4-098f-4bb0-866b-15ea91d075b4"
   },
   "outputs": [
    {
     "name": "stdout",
     "output_type": "stream",
     "text": [
      "tensor_two_d:\t tf.Tensor(\n",
      "[[ 5.  6. -8.]\n",
      " [ 1.  3. -2.]], shape=(2, 3), dtype=float64)\n",
      "tensor_two_d.shape:\t (2, 3)\n",
      "tensor_two_d.ndim:\t 2\n"
     ]
    }
   ],
   "source": [
    "tensor_two_d = tf.constant([\n",
    "    [5, 6, -8],\n",
    "    [1, 3, -2]\n",
    "], tf.float64)\n",
    "print('tensor_two_d:\\t', tensor_two_d)\n",
    "print('tensor_two_d.shape:\\t', tensor_two_d.shape)\n",
    "print('tensor_two_d.ndim:\\t',tensor_two_d.ndim)"
   ]
  },
  {
   "cell_type": "markdown",
   "metadata": {
    "id": "Fu4538K1NLS2"
   },
   "source": [
    "### 3-D tensor"
   ]
  },
  {
   "cell_type": "code",
   "execution_count": 7,
   "metadata": {
    "colab": {
     "base_uri": "https://localhost:8080/"
    },
    "id": "ZmT7cdcVMCml",
    "outputId": "0e38454a-2b38-4a2a-87d9-a311363c3164"
   },
   "outputs": [
    {
     "name": "stdout",
     "output_type": "stream",
     "text": [
      "tensor_three_d:\t tf.Tensor(\n",
      "[[[ 5  6 -8]\n",
      "  [ 1  3 -2]]\n",
      "\n",
      " [[ 5  6 -8]\n",
      "  [ 1  3 -2]]\n",
      "\n",
      " [[ 5  6 -8]\n",
      "  [ 1  3 -2]]\n",
      "\n",
      " [[ 5  6 -8]\n",
      "  [ 1  3 -2]]], shape=(4, 2, 3), dtype=int32)\n",
      "tensor_three_d.shape:\t (4, 2, 3)\n",
      "tensor_three_d.ndim:\t 3\n"
     ]
    }
   ],
   "source": [
    "tensor_three_d = tf.constant([\n",
    "    [[5, 6, -8],\n",
    "    [1, 3, -2]],\n",
    "\n",
    "    [[5, 6, -8],\n",
    "    [1, 3, -2]],\n",
    "\n",
    "    [[5, 6, -8],\n",
    "    [1, 3, -2]],\n",
    "\n",
    "    [[5, 6, -8],\n",
    "    [1, 3, -2]]\n",
    "])\n",
    "print('tensor_three_d:\\t', tensor_three_d)\n",
    "print('tensor_three_d.shape:\\t', tensor_three_d.shape)\n",
    "print('tensor_three_d.ndim:\\t',tensor_three_d.ndim)"
   ]
  },
  {
   "cell_type": "markdown",
   "metadata": {
    "id": "Dl8f9sj7Nxs3"
   },
   "source": [
    "### 4-D tensor"
   ]
  },
  {
   "cell_type": "code",
   "execution_count": 8,
   "metadata": {
    "colab": {
     "base_uri": "https://localhost:8080/"
    },
    "id": "bedi-UfpNdae",
    "outputId": "262dbb5d-100e-499e-a0a8-a0d9705f689d"
   },
   "outputs": [
    {
     "name": "stdout",
     "output_type": "stream",
     "text": [
      "tensor_four_d:\t tf.Tensor(\n",
      "[[[[ 5  6 -8]\n",
      "   [ 1  3 -2]]\n",
      "\n",
      "  [[ 5  6 -8]\n",
      "   [ 1  3 -2]]\n",
      "\n",
      "  [[ 5  6 -8]\n",
      "   [ 1  3 -2]]\n",
      "\n",
      "  [[ 5  6 -8]\n",
      "   [ 1  3 -2]]]\n",
      "\n",
      "\n",
      " [[[ 5  6 -8]\n",
      "   [ 1  3 -2]]\n",
      "\n",
      "  [[ 5  6 -8]\n",
      "   [ 1  3 -2]]\n",
      "\n",
      "  [[ 5  6 -8]\n",
      "   [ 1  3 -2]]\n",
      "\n",
      "  [[ 5  6 -8]\n",
      "   [ 1  3 -2]]]], shape=(2, 4, 2, 3), dtype=int32)\n",
      "tensor_four_d.shape:\t (2, 4, 2, 3)\n",
      "tensor_four_d.ndim:\t 4\n"
     ]
    }
   ],
   "source": [
    "tensor_four_d = tf.constant([\n",
    "    [[[5, 6, -8],\n",
    "    [1, 3, -2]],\n",
    "\n",
    "    [[5, 6, -8],\n",
    "    [1, 3, -2]],\n",
    "\n",
    "    [[5, 6, -8],\n",
    "    [1, 3, -2]],\n",
    "\n",
    "    [[5, 6, -8],\n",
    "    [1, 3, -2]]],\n",
    "\n",
    "    [[[5, 6, -8],\n",
    "    [1, 3, -2]],\n",
    "\n",
    "    [[5, 6, -8],\n",
    "    [1, 3, -2]],\n",
    "\n",
    "    [[5, 6, -8],\n",
    "    [1, 3, -2]],\n",
    "\n",
    "    [[5, 6, -8],\n",
    "    [1, 3, -2]]]\n",
    "])\n",
    "print('tensor_four_d:\\t', tensor_four_d)\n",
    "print('tensor_four_d.shape:\\t', tensor_four_d.shape)\n",
    "print('tensor_four_d.ndim:\\t',tensor_four_d.ndim)"
   ]
  },
  {
   "cell_type": "markdown",
   "metadata": {
    "id": "ZREHinVXOsTA"
   },
   "source": [
    "### Casting"
   ]
  },
  {
   "cell_type": "code",
   "execution_count": 9,
   "metadata": {
    "colab": {
     "base_uri": "https://localhost:8080/"
    },
    "id": "cTh30YPVOJT1",
    "outputId": "d8131c8f-bd01-4d8c-d917-9e5e6c528875"
   },
   "outputs": [
    {
     "name": "stdout",
     "output_type": "stream",
     "text": [
      "<dtype: 'float32'>\n"
     ]
    }
   ],
   "source": [
    "print(tensor_one_d.dtype)"
   ]
  },
  {
   "cell_type": "code",
   "execution_count": 10,
   "metadata": {
    "colab": {
     "base_uri": "https://localhost:8080/"
    },
    "id": "v0uSvvgpO3FY",
    "outputId": "868b1d11-4379-4762-a938-3cfef7dbcab6"
   },
   "outputs": [
    {
     "name": "stdout",
     "output_type": "stream",
     "text": [
      "casted_tensor_one_d:\t tf.Tensor([ 5  6 -2], shape=(3,), dtype=int64)\n"
     ]
    }
   ],
   "source": [
    "casted_tensor_one_d = tf.cast(tensor_one_d, tf.int64)\n",
    "print('casted_tensor_one_d:\\t', casted_tensor_one_d)"
   ]
  },
  {
   "cell_type": "code",
   "execution_count": 11,
   "metadata": {
    "colab": {
     "base_uri": "https://localhost:8080/"
    },
    "id": "t86i76UlPDlZ",
    "outputId": "18c023a0-9429-4de5-db8a-17926dd8fab8"
   },
   "outputs": [
    {
     "name": "stdout",
     "output_type": "stream",
     "text": [
      "casted_tensor_one_d:\t tf.Tensor([ True  True  True], shape=(3,), dtype=bool)\n"
     ]
    }
   ],
   "source": [
    "casted_tensor_one_d = tf.cast(tensor_one_d, tf.bool)\n",
    "print('casted_tensor_one_d:\\t', casted_tensor_one_d)"
   ]
  },
  {
   "cell_type": "code",
   "execution_count": 12,
   "metadata": {
    "colab": {
     "base_uri": "https://localhost:8080/"
    },
    "id": "5Pxm3K_vPP0p",
    "outputId": "fe66b465-a813-48a8-f205-2316aec50982"
   },
   "outputs": [
    {
     "name": "stdout",
     "output_type": "stream",
     "text": [
      "casted_tensor_one_d:\t tf.Tensor([ True False  True  True], shape=(4,), dtype=bool)\n"
     ]
    }
   ],
   "source": [
    "casted_tensor_one_d = tf.cast(tf.constant([1,0,2,-1]), tf.bool)\n",
    "print('casted_tensor_one_d:\\t', casted_tensor_one_d)"
   ]
  },
  {
   "cell_type": "markdown",
   "metadata": {
    "id": "-Rg9LBZHPjOr"
   },
   "source": [
    "### Convert Numpy to tensor"
   ]
  },
  {
   "cell_type": "code",
   "execution_count": 13,
   "metadata": {
    "id": "boVlifjgPmQS"
   },
   "outputs": [],
   "source": [
    "import numpy as np"
   ]
  },
  {
   "cell_type": "code",
   "execution_count": 14,
   "metadata": {
    "colab": {
     "base_uri": "https://localhost:8080/"
    },
    "id": "-hFfuZ2fS1Dw",
    "outputId": "107be56d-5864-433c-a59e-bb353aee7d1a"
   },
   "outputs": [
    {
     "name": "stdout",
     "output_type": "stream",
     "text": [
      "np_arr:\t [ 5  9 -2  1]\n"
     ]
    }
   ],
   "source": [
    "np_arr = np.array([5,9,-2,1])\n",
    "print('np_arr:\\t', np_arr)"
   ]
  },
  {
   "cell_type": "code",
   "execution_count": 15,
   "metadata": {
    "colab": {
     "base_uri": "https://localhost:8080/"
    },
    "id": "KmfkImUaTCkH",
    "outputId": "d2668e17-22f6-420f-d37e-8d64af598065"
   },
   "outputs": [
    {
     "name": "stdout",
     "output_type": "stream",
     "text": [
      "converted_from_numpy_array:\t tf.Tensor([ 5  9 -2  1], shape=(4,), dtype=int32)\n"
     ]
    }
   ],
   "source": [
    "converted_from_numpy_array = tf.convert_to_tensor(np_arr)\n",
    "print('converted_from_numpy_array:\\t', converted_from_numpy_array)"
   ]
  },
  {
   "cell_type": "code",
   "execution_count": 16,
   "metadata": {
    "colab": {
     "base_uri": "https://localhost:8080/"
    },
    "id": "y3ybJd1TTUvQ",
    "outputId": "1852ac63-e5c1-4175-9c75-f6a7db86f709"
   },
   "outputs": [
    {
     "name": "stdout",
     "output_type": "stream",
     "text": [
      "converted_from_numpy_array:\t tf.Tensor([ 5.  9. -2.  1.], shape=(4,), dtype=float16)\n"
     ]
    }
   ],
   "source": [
    "converted_from_numpy_array = tf.convert_to_tensor(np_arr, dtype = tf.float16)\n",
    "print('converted_from_numpy_array:\\t', converted_from_numpy_array)"
   ]
  },
  {
   "cell_type": "markdown",
   "metadata": {
    "id": "ozTsBtSXcdxm"
   },
   "source": [
    "### eye"
   ]
  },
  {
   "cell_type": "code",
   "execution_count": 17,
   "metadata": {
    "colab": {
     "base_uri": "https://localhost:8080/"
    },
    "id": "Td8OxiMWTfHx",
    "outputId": "842cafcb-8e9a-4755-d8ff-3d2f1eafa179"
   },
   "outputs": [
    {
     "name": "stdout",
     "output_type": "stream",
     "text": [
      "eye:\t tf.Tensor(\n",
      "[[1. 0. 0. 0.]\n",
      " [0. 1. 0. 0.]\n",
      " [0. 0. 1. 0.]\n",
      " [0. 0. 0. 1.]], shape=(4, 4), dtype=float32)\n"
     ]
    }
   ],
   "source": [
    "eye_tensor = tf.eye(\n",
    "    num_rows = 4,\n",
    "    num_columns=None,\n",
    "    batch_shape=None,\n",
    "    dtype=tf.dtypes.float32,\n",
    "    name=None\n",
    ")\n",
    "print('eye:\\t', eye_tensor)"
   ]
  },
  {
   "cell_type": "code",
   "execution_count": 18,
   "metadata": {
    "colab": {
     "base_uri": "https://localhost:8080/"
    },
    "id": "9I0P9n6Zcvbm",
    "outputId": "accf16ec-1c08-4f89-fd2c-7a26ffa841ea"
   },
   "outputs": [
    {
     "name": "stdout",
     "output_type": "stream",
     "text": [
      "eye:\t tf.Tensor(\n",
      "[[1. 0. 0. 0. 0. 0.]\n",
      " [0. 1. 0. 0. 0. 0.]\n",
      " [0. 0. 1. 0. 0. 0.]\n",
      " [0. 0. 0. 1. 0. 0.]], shape=(4, 6), dtype=float32)\n"
     ]
    }
   ],
   "source": [
    "eye_tensor2 = tf.eye(\n",
    "    num_rows = 4,\n",
    "    num_columns=6,\n",
    "    batch_shape=None,\n",
    "    dtype=tf.dtypes.float32,\n",
    "    name=None\n",
    ")\n",
    "print('eye:\\t', eye_tensor2)"
   ]
  },
  {
   "cell_type": "code",
   "execution_count": 19,
   "metadata": {
    "colab": {
     "base_uri": "https://localhost:8080/"
    },
    "id": "8ZtbZ5ZYc3RH",
    "outputId": "6e738790-0be5-4cb7-93ca-5d139c05d9c7"
   },
   "outputs": [
    {
     "name": "stdout",
     "output_type": "stream",
     "text": [
      "eye:\t tf.Tensor(\n",
      "[[[[1. 0. 0. 0. 0. 0.]\n",
      "   [0. 1. 0. 0. 0. 0.]\n",
      "   [0. 0. 1. 0. 0. 0.]\n",
      "   [0. 0. 0. 1. 0. 0.]]\n",
      "\n",
      "  [[1. 0. 0. 0. 0. 0.]\n",
      "   [0. 1. 0. 0. 0. 0.]\n",
      "   [0. 0. 1. 0. 0. 0.]\n",
      "   [0. 0. 0. 1. 0. 0.]]]\n",
      "\n",
      "\n",
      " [[[1. 0. 0. 0. 0. 0.]\n",
      "   [0. 1. 0. 0. 0. 0.]\n",
      "   [0. 0. 1. 0. 0. 0.]\n",
      "   [0. 0. 0. 1. 0. 0.]]\n",
      "\n",
      "  [[1. 0. 0. 0. 0. 0.]\n",
      "   [0. 1. 0. 0. 0. 0.]\n",
      "   [0. 0. 1. 0. 0. 0.]\n",
      "   [0. 0. 0. 1. 0. 0.]]]\n",
      "\n",
      "\n",
      " [[[1. 0. 0. 0. 0. 0.]\n",
      "   [0. 1. 0. 0. 0. 0.]\n",
      "   [0. 0. 1. 0. 0. 0.]\n",
      "   [0. 0. 0. 1. 0. 0.]]\n",
      "\n",
      "  [[1. 0. 0. 0. 0. 0.]\n",
      "   [0. 1. 0. 0. 0. 0.]\n",
      "   [0. 0. 1. 0. 0. 0.]\n",
      "   [0. 0. 0. 1. 0. 0.]]]], shape=(3, 2, 4, 6), dtype=float32)\n"
     ]
    }
   ],
   "source": [
    "eye_tensor3 = tf.eye(\n",
    "    num_rows = 4,\n",
    "    num_columns=6,\n",
    "    batch_shape=[3,2,],\n",
    "    dtype=tf.dtypes.float32,\n",
    "    name=None\n",
    ")\n",
    "print('eye:\\t', eye_tensor3)"
   ]
  },
  {
   "cell_type": "markdown",
   "metadata": {
    "id": "dGQO9Z8Td5AR"
   },
   "source": [
    "### fill"
   ]
  },
  {
   "cell_type": "code",
   "execution_count": 20,
   "metadata": {
    "colab": {
     "base_uri": "https://localhost:8080/"
    },
    "id": "lVYQtdsYdB3_",
    "outputId": "f51bff2c-42d3-4d0b-e5f2-61cfbfb059a6"
   },
   "outputs": [
    {
     "name": "stdout",
     "output_type": "stream",
     "text": [
      "fill_tensor:\t tf.Tensor(\n",
      "[[60 60 60 60 60]\n",
      " [60 60 60 60 60]], shape=(2, 5), dtype=int32)\n"
     ]
    }
   ],
   "source": [
    "fill_tensor = tf.fill(\n",
    "    [2, 5], 60, name=None\n",
    ")\n",
    "print('fill_tensor:\\t', fill_tensor)"
   ]
  },
  {
   "cell_type": "code",
   "execution_count": 21,
   "metadata": {
    "colab": {
     "base_uri": "https://localhost:8080/"
    },
    "id": "iOrwxok3eGSx",
    "outputId": "25b5160c-dd33-450a-9096-baa2bb02e606"
   },
   "outputs": [
    {
     "name": "stdout",
     "output_type": "stream",
     "text": [
      "fill_tensor2:\t tf.Tensor(\n",
      "[[1 1 1 1 1]\n",
      " [1 1 1 1 1]], shape=(2, 5), dtype=int32)\n"
     ]
    }
   ],
   "source": [
    "fill_tensor2 = tf.fill(\n",
    "    [2, 5], 1, name=None\n",
    ")\n",
    "print('fill_tensor2:\\t', fill_tensor2)"
   ]
  },
  {
   "cell_type": "code",
   "execution_count": 22,
   "metadata": {
    "colab": {
     "base_uri": "https://localhost:8080/"
    },
    "id": "bPtA-FDEebBy",
    "outputId": "373d7be0-d6f2-4325-ce07-5721c5c97ca5"
   },
   "outputs": [
    {
     "name": "stdout",
     "output_type": "stream",
     "text": [
      "fill_tensor3:\t tf.Tensor(\n",
      "[[1. 1. 1. 1. 1.]\n",
      " [1. 1. 1. 1. 1.]], shape=(2, 5), dtype=float32)\n"
     ]
    }
   ],
   "source": [
    "fill_tensor3 = tf.fill(\n",
    "    [2, 5], 1., name=None\n",
    ")\n",
    "print('fill_tensor3:\\t', fill_tensor3)"
   ]
  },
  {
   "cell_type": "markdown",
   "metadata": {
    "id": "t1asand_ehq5"
   },
   "source": [
    "### ones"
   ]
  },
  {
   "cell_type": "code",
   "execution_count": 23,
   "metadata": {
    "colab": {
     "base_uri": "https://localhost:8080/"
    },
    "id": "bMaLjJaremxh",
    "outputId": "050bb069-5989-48bf-eac2-de900fa38a06"
   },
   "outputs": [
    {
     "name": "stdout",
     "output_type": "stream",
     "text": [
      "ones_tensor:\t tf.Tensor(\n",
      "[[1. 1. 1. 1. 1.]\n",
      " [1. 1. 1. 1. 1.]], shape=(2, 5), dtype=float32)\n"
     ]
    }
   ],
   "source": [
    "ones_tensor = tf.ones([2,5])\n",
    "print('ones_tensor:\\t', ones_tensor)"
   ]
  },
  {
   "cell_type": "code",
   "execution_count": 24,
   "metadata": {
    "colab": {
     "base_uri": "https://localhost:8080/"
    },
    "id": "Sz9gCxTve5dz",
    "outputId": "c06af7f0-30dc-4f3f-a3bc-d59ea179a4ff"
   },
   "outputs": [
    {
     "name": "stdout",
     "output_type": "stream",
     "text": [
      "ones_tensor:\t tf.Tensor(\n",
      "[[1 1 1 1 1]\n",
      " [1 1 1 1 1]], shape=(2, 5), dtype=int16)\n"
     ]
    }
   ],
   "source": [
    "ones_tensor = tf.ones([2,5], dtype= tf.int16)\n",
    "print('ones_tensor:\\t', ones_tensor)"
   ]
  },
  {
   "cell_type": "markdown",
   "metadata": {
    "id": "drlw4CFcf1l0"
   },
   "source": [
    "### ones like"
   ]
  },
  {
   "cell_type": "code",
   "execution_count": 25,
   "metadata": {
    "colab": {
     "base_uri": "https://localhost:8080/"
    },
    "id": "Vo-6hylAfAEC",
    "outputId": "60b1b3cf-a807-4f77-91ad-1f0304d88b6d"
   },
   "outputs": [
    {
     "name": "stdout",
     "output_type": "stream",
     "text": [
      "ones_like_tensor:\t tf.Tensor(\n",
      "[[1 1 1 1 1]\n",
      " [1 1 1 1 1]], shape=(2, 5), dtype=int32)\n"
     ]
    }
   ],
   "source": [
    "ones_like_tensor = tf.ones_like(fill_tensor)\n",
    "print('ones_like_tensor:\\t', ones_like_tensor)"
   ]
  },
  {
   "cell_type": "code",
   "execution_count": 26,
   "metadata": {
    "colab": {
     "base_uri": "https://localhost:8080/"
    },
    "id": "5fwvMjQBgDF9",
    "outputId": "d281fec6-0547-48eb-b6c8-df4ea300f75b"
   },
   "outputs": [
    {
     "name": "stdout",
     "output_type": "stream",
     "text": [
      "ones_like_tensor2:\t tf.Tensor([1 1 1], shape=(3,), dtype=int32)\n"
     ]
    }
   ],
   "source": [
    "ones_like_tensor2 = tf.ones_like([10,20,0])\n",
    "print('ones_like_tensor2:\\t', ones_like_tensor2)"
   ]
  },
  {
   "cell_type": "code",
   "execution_count": 27,
   "metadata": {
    "colab": {
     "base_uri": "https://localhost:8080/"
    },
    "id": "ikyrFj5mgff-",
    "outputId": "8b0ce213-0b38-43bc-8923-382ad5d4636b"
   },
   "outputs": [
    {
     "name": "stdout",
     "output_type": "stream",
     "text": [
      "ones_like_tensor3:\t tf.Tensor([2 2 2], shape=(3,), dtype=int32)\n"
     ]
    }
   ],
   "source": [
    "ones_like_tensor3 = 2*tf.ones_like([10,20,0])\n",
    "print('ones_like_tensor3:\\t', ones_like_tensor3)"
   ]
  },
  {
   "cell_type": "code",
   "execution_count": 28,
   "metadata": {
    "colab": {
     "base_uri": "https://localhost:8080/"
    },
    "id": "O8oUknQ8g6A-",
    "outputId": "6936ced8-7474-46ef-bb11-fa292200c2c9"
   },
   "outputs": [
    {
     "name": "stdout",
     "output_type": "stream",
     "text": [
      "1\n"
     ]
    }
   ],
   "source": [
    "print(ones_like_tensor3.ndim)"
   ]
  },
  {
   "cell_type": "markdown",
   "metadata": {
    "id": "PGOmg4UjheV6"
   },
   "source": [
    "### zeros and zeros_like"
   ]
  },
  {
   "cell_type": "code",
   "execution_count": 29,
   "metadata": {},
   "outputs": [
    {
     "name": "stdout",
     "output_type": "stream",
     "text": [
      "zeros_tensor:\t tf.Tensor(\n",
      "[[0. 0. 0. 0. 0.]\n",
      " [0. 0. 0. 0. 0.]], shape=(2, 5), dtype=float32)\n"
     ]
    }
   ],
   "source": [
    "zeros_tensor = tf.zeros([2,5])\n",
    "print('zeros_tensor:\\t', zeros_tensor)"
   ]
  },
  {
   "cell_type": "code",
   "execution_count": 30,
   "metadata": {
    "colab": {
     "base_uri": "https://localhost:8080/"
    },
    "id": "8fyCLRIIhlMf",
    "outputId": "e65d9778-ebb6-4e3d-c37e-4680e53125a5",
    "scrolled": true
   },
   "outputs": [
    {
     "name": "stdout",
     "output_type": "stream",
     "text": [
      "zeros_tensor2:\t tf.Tensor(\n",
      "[[0 0 0 0 0]\n",
      " [0 0 0 0 0]], shape=(2, 5), dtype=int32)\n"
     ]
    }
   ],
   "source": [
    "zeros_tensor2 = tf.zeros([2,5], dtype=tf.int32)\n",
    "print('zeros_tensor2:\\t', zeros_tensor2)"
   ]
  },
  {
   "cell_type": "code",
   "execution_count": 31,
   "metadata": {
    "colab": {
     "base_uri": "https://localhost:8080/"
    },
    "id": "lDCgC2g2hsRc",
    "outputId": "51088a34-eb33-4977-91e8-26f6ffc4204a"
   },
   "outputs": [
    {
     "name": "stdout",
     "output_type": "stream",
     "text": [
      "zeros_like_tensor:\t tf.Tensor([0 0], shape=(2,), dtype=int32)\n"
     ]
    }
   ],
   "source": [
    "zeros_like_tensor = tf.zeros_like([2,5])\n",
    "print('zeros_like_tensor:\\t', zeros_like_tensor)"
   ]
  },
  {
   "cell_type": "code",
   "execution_count": 32,
   "metadata": {
    "colab": {
     "base_uri": "https://localhost:8080/"
    },
    "id": "uFVfO0NChyPH",
    "outputId": "d0fa21bc-7fb5-4113-a12d-969b11b587cd"
   },
   "outputs": [
    {
     "name": "stdout",
     "output_type": "stream",
     "text": [
      "zeros_like_tensor:\t tf.Tensor([0. 0.], shape=(2,), dtype=float32)\n"
     ]
    }
   ],
   "source": [
    "zeros_like_tensor = tf.zeros_like([2.,5])\n",
    "print('zeros_like_tensor:\\t', zeros_like_tensor)"
   ]
  },
  {
   "cell_type": "markdown",
   "metadata": {
    "id": "NJ4LQ-86iHd4"
   },
   "source": [
    "### rank"
   ]
  },
  {
   "cell_type": "code",
   "execution_count": 33,
   "metadata": {
    "colab": {
     "base_uri": "https://localhost:8080/"
    },
    "id": "FFoCSQaoh2_g",
    "outputId": "0904c0b9-ec56-41b8-fd3d-29a685565aef"
   },
   "outputs": [
    {
     "name": "stdout",
     "output_type": "stream",
     "text": [
      "tf.Tensor(3, shape=(), dtype=int32)\n"
     ]
    }
   ],
   "source": [
    "# shape of tensor 't' is [2, 2, 3]\n",
    "t = tf.constant([[[1, 1, 1], [2, 2, 2]], [[3, 3, 3], [4, 4, 4]]])\n",
    "print(tf.rank(t))  # 3"
   ]
  },
  {
   "cell_type": "markdown",
   "metadata": {
    "id": "ONX-xUaMigoI"
   },
   "source": [
    "### size\n",
    "#### the number of elements"
   ]
  },
  {
   "cell_type": "code",
   "execution_count": 34,
   "metadata": {
    "colab": {
     "base_uri": "https://localhost:8080/"
    },
    "id": "JksJsDGaiiv5",
    "outputId": "19a189b6-5332-4b07-a8f1-7208ff851d62"
   },
   "outputs": [
    {
     "name": "stdout",
     "output_type": "stream",
     "text": [
      "tf.Tensor(12, shape=(), dtype=int32)\n"
     ]
    }
   ],
   "source": [
    "t = tf.constant([[[1, 1, 1], [2, 2, 2]], [[3, 3, 3], [4, 4, 4]]])\n",
    "print(tf.size(t))\n"
   ]
  },
  {
   "cell_type": "code",
   "execution_count": 35,
   "metadata": {
    "colab": {
     "base_uri": "https://localhost:8080/"
    },
    "id": "7QA5sjkuilWZ",
    "outputId": "5f857a91-35a1-4118-b25d-ce560dc70c9b"
   },
   "outputs": [
    {
     "name": "stdout",
     "output_type": "stream",
     "text": [
      "tf.Tensor(12.0, shape=(), dtype=float16)\n"
     ]
    }
   ],
   "source": [
    "t = tf.constant([[[1, 1, 1], [2, 2, 2]], [[3, 3, 3], [4, 4, 4]]])\n",
    "print(tf.size(t, out_type = tf.float16))"
   ]
  },
  {
   "cell_type": "markdown",
   "metadata": {
    "id": "BDgEvN6IjGe5"
   },
   "source": [
    "## tf.random.normal"
   ]
  },
  {
   "cell_type": "code",
   "execution_count": 36,
   "metadata": {
    "scrolled": true
   },
   "outputs": [
    {
     "name": "stdout",
     "output_type": "stream",
     "text": [
      "normal_tensor:\t tf.Tensor([[1.6857936 1.651685 ]], shape=(1, 2), dtype=float32)\n"
     ]
    }
   ],
   "source": [
    "normal_tensor = tf.random.normal(\n",
    "    shape = [1,2],\n",
    "    mean=0.0,\n",
    "    stddev=2.0,\n",
    "    dtype=tf.dtypes.float32,\n",
    ")\n",
    "print(\"normal_tensor:\\t\", normal_tensor)"
   ]
  },
  {
   "cell_type": "markdown",
   "metadata": {},
   "source": [
    "## tf.random.uniform"
   ]
  },
  {
   "cell_type": "code",
   "execution_count": 37,
   "metadata": {},
   "outputs": [
    {
     "name": "stdout",
     "output_type": "stream",
     "text": [
      "uniform_tensor:\t tf.Tensor(\n",
      "[[0.12703407]\n",
      " [0.6158823 ]\n",
      " [0.23219073]\n",
      " [0.4852581 ]\n",
      " [0.86816776]\n",
      " [0.17357564]\n",
      " [0.41343486]\n",
      " [0.4297861 ]\n",
      " [0.75191784]\n",
      " [0.5152308 ]], shape=(10, 1), dtype=float32)\n"
     ]
    }
   ],
   "source": [
    "uniform_tensor = tf.random.uniform(\n",
    "    shape = (10, 1),\n",
    "    minval=0,\n",
    "    maxval=None,\n",
    "    dtype=tf.dtypes.float32,\n",
    ")\n",
    "print(\"uniform_tensor:\\t\", uniform_tensor)"
   ]
  },
  {
   "cell_type": "code",
   "execution_count": 38,
   "metadata": {},
   "outputs": [
    {
     "name": "stdout",
     "output_type": "stream",
     "text": [
      "uniform_tensor2:\t tf.Tensor(\n",
      "[[63.64746  ]\n",
      " [ 1.5659928]\n",
      " [72.42453  ]\n",
      " [43.041492 ]\n",
      " [87.64807  ]\n",
      " [57.346107 ]\n",
      " [31.83856  ]\n",
      " [92.69754  ]\n",
      " [31.860077 ]\n",
      " [ 9.259796 ]], shape=(10, 1), dtype=float32)\n"
     ]
    }
   ],
   "source": [
    "uniform_tensor2 = tf.random.uniform(\n",
    "    shape = (10, 1),\n",
    "    minval=0,\n",
    "    maxval=100,\n",
    "    dtype=tf.dtypes.float32,\n",
    ")\n",
    "print(\"uniform_tensor2:\\t\", uniform_tensor2)"
   ]
  },
  {
   "cell_type": "code",
   "execution_count": 39,
   "metadata": {},
   "outputs": [
    {
     "name": "stdout",
     "output_type": "stream",
     "text": [
      "uniform_tensor3:\t tf.Tensor(\n",
      "[[752 909 177]\n",
      " [836 341 437]\n",
      " [352 470 253]\n",
      " [251 907   5]\n",
      " [713 544 116]\n",
      " [249 609 994]\n",
      " [126 164 823]\n",
      " [798 681 918]\n",
      " [634 283 478]\n",
      " [ 50 185 889]], shape=(10, 3), dtype=int32)\n"
     ]
    }
   ],
   "source": [
    "uniform_tensor3 = tf.random.uniform(\n",
    "    shape = (10, 3),\n",
    "    minval=0,\n",
    "    maxval=1000,\n",
    "    dtype=tf.dtypes.int32,\n",
    ")\n",
    "print(\"uniform_tensor3:\\t\", uniform_tensor3)"
   ]
  },
  {
   "cell_type": "markdown",
   "metadata": {},
   "source": [
    "## Seed"
   ]
  },
  {
   "cell_type": "code",
   "execution_count": 40,
   "metadata": {},
   "outputs": [
    {
     "name": "stdout",
     "output_type": "stream",
     "text": [
      "tf.Tensor(70, shape=(), dtype=int32)\n",
      "tf.Tensor(97, shape=(), dtype=int32)\n",
      "tf.Tensor(99, shape=(), dtype=int32)\n",
      "tf.Tensor(63, shape=(), dtype=int32)\n",
      "tf.Tensor(62, shape=(), dtype=int32)\n",
      "tf.Tensor(41, shape=(), dtype=int32)\n"
     ]
    }
   ],
   "source": [
    "tf.random.set_seed(5)\n",
    "print(tf.random.uniform(shape=[], maxval=100, dtype=tf.int32))\n",
    "print(tf.random.uniform(shape=[], maxval=100, dtype=tf.int32))\n",
    "print(tf.random.uniform(shape=[], maxval=100, dtype=tf.int32))\n",
    "print(tf.random.uniform(shape=[], maxval=100, dtype=tf.int32))\n",
    "print(tf.random.uniform(shape=[], maxval=100, dtype=tf.int32))\n",
    "print(tf.random.uniform(shape=[], maxval=100, dtype=tf.int32))"
   ]
  },
  {
   "cell_type": "code",
   "execution_count": 41,
   "metadata": {},
   "outputs": [
    {
     "name": "stdout",
     "output_type": "stream",
     "text": [
      "tf.Tensor(2, shape=(), dtype=int32)\n",
      "tf.Tensor(64, shape=(), dtype=int32)\n",
      "tf.Tensor(88, shape=(), dtype=int32)\n",
      "tf.Tensor(35, shape=(), dtype=int32)\n",
      "tf.Tensor(85, shape=(), dtype=int32)\n",
      "tf.Tensor(14, shape=(), dtype=int32)\n"
     ]
    }
   ],
   "source": [
    "print(tf.random.uniform(shape=[], maxval=100, dtype=tf.int32))\n",
    "print(tf.random.uniform(shape=[], maxval=100, dtype=tf.int32))\n",
    "print(tf.random.uniform(shape=[], maxval=100, dtype=tf.int32))\n",
    "print(tf.random.uniform(shape=[], maxval=100, dtype=tf.int32))\n",
    "print(tf.random.uniform(shape=[], maxval=100, dtype=tf.int32))\n",
    "print(tf.random.uniform(shape=[], maxval=100, dtype=tf.int32))"
   ]
  },
  {
   "cell_type": "code",
   "execution_count": null,
   "metadata": {},
   "outputs": [],
   "source": []
  }
 ],
 "metadata": {
  "colab": {
   "provenance": []
  },
  "kernelspec": {
   "display_name": "Python 3 (ipykernel)",
   "language": "python",
   "name": "python3"
  },
  "language_info": {
   "codemirror_mode": {
    "name": "ipython",
    "version": 3
   },
   "file_extension": ".py",
   "mimetype": "text/x-python",
   "name": "python",
   "nbconvert_exporter": "python",
   "pygments_lexer": "ipython3",
   "version": "3.9.17"
  }
 },
 "nbformat": 4,
 "nbformat_minor": 1
}
